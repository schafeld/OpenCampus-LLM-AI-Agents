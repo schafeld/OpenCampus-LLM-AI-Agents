{
 "cells": [
  {
   "cell_type": "markdown",
   "id": "25c75732-3e10-48c9-89d3-dd43595bbc3d",
   "metadata": {},
   "source": [
    "# First llamaindex tutorial"
   ]
  },
  {
   "cell_type": "markdown",
   "id": "e5b5a67c-fc98-44c2-b534-b20025276e51",
   "metadata": {},
   "source": [
    "Prepare to import your API key"
   ]
  },
  {
   "cell_type": "code",
   "execution_count": 3,
   "id": "77edabf7-09fb-4f4c-9930-f75b522ef2db",
   "metadata": {},
   "outputs": [
    {
     "name": "stdout",
     "output_type": "stream",
     "text": [
      "Requirement already satisfied: python-dotenv in /Users/user001/anaconda3/lib/python3.11/site-packages (1.1.0)\n",
      "Note: you may need to restart the kernel to use updated packages.\n"
     ]
    }
   ],
   "source": [
    "pip install python-dotenv"
   ]
  },
  {
   "cell_type": "markdown",
   "id": "1d7865bf-2c6d-4fb0-84a9-d6bb4ffd2f5a",
   "metadata": {},
   "source": [
    "Similar to langchain llamaindex provides a lot of functionality to easily work with LLMs. It is one of the most popular frameworks besides langchain"
   ]
  },
  {
   "cell_type": "code",
   "execution_count": 5,
   "id": "53499eb2-dacd-4395-ba3b-e413492d1444",
   "metadata": {},
   "outputs": [
    {
     "name": "stdout",
     "output_type": "stream",
     "text": [
      "Requirement already satisfied: llama-index in /Users/user001/anaconda3/lib/python3.11/site-packages (0.12.34)\n",
      "Requirement already satisfied: llama-index-agent-openai<0.5,>=0.4.0 in /Users/user001/anaconda3/lib/python3.11/site-packages (from llama-index) (0.4.7)\n",
      "Requirement already satisfied: llama-index-cli<0.5,>=0.4.1 in /Users/user001/anaconda3/lib/python3.11/site-packages (from llama-index) (0.4.1)\n",
      "Requirement already satisfied: llama-index-core<0.13,>=0.12.34 in /Users/user001/anaconda3/lib/python3.11/site-packages (from llama-index) (0.12.34.post1)\n",
      "Requirement already satisfied: llama-index-embeddings-openai<0.4,>=0.3.0 in /Users/user001/anaconda3/lib/python3.11/site-packages (from llama-index) (0.3.1)\n",
      "Requirement already satisfied: llama-index-indices-managed-llama-cloud>=0.4.0 in /Users/user001/anaconda3/lib/python3.11/site-packages (from llama-index) (0.6.11)\n",
      "Requirement already satisfied: llama-index-llms-openai<0.4,>=0.3.0 in /Users/user001/anaconda3/lib/python3.11/site-packages (from llama-index) (0.3.38)\n",
      "Requirement already satisfied: llama-index-multi-modal-llms-openai<0.5,>=0.4.0 in /Users/user001/anaconda3/lib/python3.11/site-packages (from llama-index) (0.4.3)\n",
      "Requirement already satisfied: llama-index-program-openai<0.4,>=0.3.0 in /Users/user001/anaconda3/lib/python3.11/site-packages (from llama-index) (0.3.1)\n",
      "Requirement already satisfied: llama-index-question-gen-openai<0.4,>=0.3.0 in /Users/user001/anaconda3/lib/python3.11/site-packages (from llama-index) (0.3.0)\n",
      "Requirement already satisfied: llama-index-readers-file<0.5,>=0.4.0 in /Users/user001/anaconda3/lib/python3.11/site-packages (from llama-index) (0.4.7)\n",
      "Requirement already satisfied: llama-index-readers-llama-parse>=0.4.0 in /Users/user001/anaconda3/lib/python3.11/site-packages (from llama-index) (0.4.0)\n",
      "Requirement already satisfied: nltk>3.8.1 in /Users/user001/anaconda3/lib/python3.11/site-packages (from llama-index) (3.9.1)\n",
      "Requirement already satisfied: openai>=1.14.0 in /Users/user001/anaconda3/lib/python3.11/site-packages (from llama-index-agent-openai<0.5,>=0.4.0->llama-index) (1.77.0)\n",
      "Requirement already satisfied: aiohttp<4,>=3.8.6 in /Users/user001/anaconda3/lib/python3.11/site-packages (from llama-index-core<0.13,>=0.12.34->llama-index) (3.11.18)\n",
      "Requirement already satisfied: banks<3,>=2.0.0 in /Users/user001/anaconda3/lib/python3.11/site-packages (from llama-index-core<0.13,>=0.12.34->llama-index) (2.1.2)\n",
      "Requirement already satisfied: dataclasses-json in /Users/user001/anaconda3/lib/python3.11/site-packages (from llama-index-core<0.13,>=0.12.34->llama-index) (0.6.7)\n",
      "Requirement already satisfied: deprecated>=1.2.9.3 in /Users/user001/anaconda3/lib/python3.11/site-packages (from llama-index-core<0.13,>=0.12.34->llama-index) (1.2.18)\n",
      "Requirement already satisfied: dirtyjson<2,>=1.0.8 in /Users/user001/anaconda3/lib/python3.11/site-packages (from llama-index-core<0.13,>=0.12.34->llama-index) (1.0.8)\n",
      "Requirement already satisfied: filetype<2,>=1.2.0 in /Users/user001/anaconda3/lib/python3.11/site-packages (from llama-index-core<0.13,>=0.12.34->llama-index) (1.2.0)\n",
      "Requirement already satisfied: fsspec>=2023.5.0 in /Users/user001/anaconda3/lib/python3.11/site-packages (from llama-index-core<0.13,>=0.12.34->llama-index) (2025.3.2)\n",
      "Requirement already satisfied: httpx in /Users/user001/anaconda3/lib/python3.11/site-packages (from llama-index-core<0.13,>=0.12.34->llama-index) (0.27.0)\n",
      "Requirement already satisfied: nest-asyncio<2,>=1.5.8 in /Users/user001/anaconda3/lib/python3.11/site-packages (from llama-index-core<0.13,>=0.12.34->llama-index) (1.6.0)\n",
      "Requirement already satisfied: networkx>=3.0 in /Users/user001/anaconda3/lib/python3.11/site-packages (from llama-index-core<0.13,>=0.12.34->llama-index) (3.1)\n",
      "Requirement already satisfied: numpy in /Users/user001/anaconda3/lib/python3.11/site-packages (from llama-index-core<0.13,>=0.12.34->llama-index) (2.2.5)\n",
      "Requirement already satisfied: pillow>=9.0.0 in /Users/user001/anaconda3/lib/python3.11/site-packages (from llama-index-core<0.13,>=0.12.34->llama-index) (10.0.1)\n",
      "Requirement already satisfied: pydantic>=2.8.0 in /Users/user001/anaconda3/lib/python3.11/site-packages (from llama-index-core<0.13,>=0.12.34->llama-index) (2.11.3)\n",
      "Requirement already satisfied: pyyaml>=6.0.1 in /Users/user001/anaconda3/lib/python3.11/site-packages (from llama-index-core<0.13,>=0.12.34->llama-index) (6.0.2)\n",
      "Requirement already satisfied: requests>=2.31.0 in /Users/user001/anaconda3/lib/python3.11/site-packages (from llama-index-core<0.13,>=0.12.34->llama-index) (2.31.0)\n",
      "Requirement already satisfied: sqlalchemy[asyncio]>=1.4.49 in /Users/user001/anaconda3/lib/python3.11/site-packages (from llama-index-core<0.13,>=0.12.34->llama-index) (2.0.35)\n",
      "Requirement already satisfied: tenacity!=8.4.0,<10.0.0,>=8.2.0 in /Users/user001/anaconda3/lib/python3.11/site-packages (from llama-index-core<0.13,>=0.12.34->llama-index) (8.2.2)\n",
      "Requirement already satisfied: tiktoken>=0.7.0 in /Users/user001/anaconda3/lib/python3.11/site-packages (from llama-index-core<0.13,>=0.12.34->llama-index) (0.9.0)\n",
      "Requirement already satisfied: tqdm<5,>=4.66.1 in /Users/user001/anaconda3/lib/python3.11/site-packages (from llama-index-core<0.13,>=0.12.34->llama-index) (4.67.1)\n",
      "Requirement already satisfied: typing-extensions>=4.5.0 in /Users/user001/anaconda3/lib/python3.11/site-packages (from llama-index-core<0.13,>=0.12.34->llama-index) (4.13.2)\n",
      "Requirement already satisfied: typing-inspect>=0.8.0 in /Users/user001/anaconda3/lib/python3.11/site-packages (from llama-index-core<0.13,>=0.12.34->llama-index) (0.9.0)\n",
      "Requirement already satisfied: wrapt in /Users/user001/anaconda3/lib/python3.11/site-packages (from llama-index-core<0.13,>=0.12.34->llama-index) (1.14.1)\n",
      "Requirement already satisfied: llama-cloud<0.2.0,>=0.1.13 in /Users/user001/anaconda3/lib/python3.11/site-packages (from llama-index-indices-managed-llama-cloud>=0.4.0->llama-index) (0.1.19)\n",
      "Requirement already satisfied: beautifulsoup4<5.0.0,>=4.12.3 in /Users/user001/anaconda3/lib/python3.11/site-packages (from llama-index-readers-file<0.5,>=0.4.0->llama-index) (4.13.4)\n",
      "Requirement already satisfied: pandas in /Users/user001/anaconda3/lib/python3.11/site-packages (from llama-index-readers-file<0.5,>=0.4.0->llama-index) (2.0.3)\n",
      "Requirement already satisfied: pypdf<6.0.0,>=5.1.0 in /Users/user001/anaconda3/lib/python3.11/site-packages (from llama-index-readers-file<0.5,>=0.4.0->llama-index) (5.4.0)\n",
      "Requirement already satisfied: striprtf<0.0.27,>=0.0.26 in /Users/user001/anaconda3/lib/python3.11/site-packages (from llama-index-readers-file<0.5,>=0.4.0->llama-index) (0.0.26)\n",
      "Requirement already satisfied: llama-parse>=0.5.0 in /Users/user001/anaconda3/lib/python3.11/site-packages (from llama-index-readers-llama-parse>=0.4.0->llama-index) (0.6.21)\n",
      "Requirement already satisfied: click in /Users/user001/anaconda3/lib/python3.11/site-packages (from nltk>3.8.1->llama-index) (8.1.8)\n",
      "Requirement already satisfied: joblib in /Users/user001/anaconda3/lib/python3.11/site-packages (from nltk>3.8.1->llama-index) (1.2.0)\n",
      "Requirement already satisfied: regex>=2021.8.3 in /Users/user001/anaconda3/lib/python3.11/site-packages (from nltk>3.8.1->llama-index) (2022.7.9)\n",
      "Requirement already satisfied: aiohappyeyeballs>=2.3.0 in /Users/user001/anaconda3/lib/python3.11/site-packages (from aiohttp<4,>=3.8.6->llama-index-core<0.13,>=0.12.34->llama-index) (2.6.1)\n",
      "Requirement already satisfied: aiosignal>=1.1.2 in /Users/user001/anaconda3/lib/python3.11/site-packages (from aiohttp<4,>=3.8.6->llama-index-core<0.13,>=0.12.34->llama-index) (1.2.0)\n",
      "Requirement already satisfied: attrs>=17.3.0 in /Users/user001/anaconda3/lib/python3.11/site-packages (from aiohttp<4,>=3.8.6->llama-index-core<0.13,>=0.12.34->llama-index) (22.1.0)\n",
      "Requirement already satisfied: frozenlist>=1.1.1 in /Users/user001/anaconda3/lib/python3.11/site-packages (from aiohttp<4,>=3.8.6->llama-index-core<0.13,>=0.12.34->llama-index) (1.3.3)\n",
      "Requirement already satisfied: multidict<7.0,>=4.5 in /Users/user001/anaconda3/lib/python3.11/site-packages (from aiohttp<4,>=3.8.6->llama-index-core<0.13,>=0.12.34->llama-index) (6.0.2)\n",
      "Requirement already satisfied: propcache>=0.2.0 in /Users/user001/anaconda3/lib/python3.11/site-packages (from aiohttp<4,>=3.8.6->llama-index-core<0.13,>=0.12.34->llama-index) (0.3.1)\n",
      "Requirement already satisfied: yarl<2.0,>=1.17.0 in /Users/user001/anaconda3/lib/python3.11/site-packages (from aiohttp<4,>=3.8.6->llama-index-core<0.13,>=0.12.34->llama-index) (1.20.0)\n",
      "Requirement already satisfied: griffe in /Users/user001/anaconda3/lib/python3.11/site-packages (from banks<3,>=2.0.0->llama-index-core<0.13,>=0.12.34->llama-index) (1.7.3)\n",
      "Requirement already satisfied: jinja2 in /Users/user001/anaconda3/lib/python3.11/site-packages (from banks<3,>=2.0.0->llama-index-core<0.13,>=0.12.34->llama-index) (3.1.2)\n",
      "Requirement already satisfied: platformdirs in /Users/user001/anaconda3/lib/python3.11/site-packages (from banks<3,>=2.0.0->llama-index-core<0.13,>=0.12.34->llama-index) (4.3.7)\n",
      "Requirement already satisfied: soupsieve>1.2 in /Users/user001/anaconda3/lib/python3.11/site-packages (from beautifulsoup4<5.0.0,>=4.12.3->llama-index-readers-file<0.5,>=0.4.0->llama-index) (2.4)\n",
      "Requirement already satisfied: certifi>=2024.7.4 in /Users/user001/anaconda3/lib/python3.11/site-packages (from llama-cloud<0.2.0,>=0.1.13->llama-index-indices-managed-llama-cloud>=0.4.0->llama-index) (2025.1.31)\n",
      "Requirement already satisfied: anyio in /Users/user001/anaconda3/lib/python3.11/site-packages (from httpx->llama-index-core<0.13,>=0.12.34->llama-index) (3.5.0)\n",
      "Requirement already satisfied: httpcore==1.* in /Users/user001/anaconda3/lib/python3.11/site-packages (from httpx->llama-index-core<0.13,>=0.12.34->llama-index) (1.0.5)\n",
      "Requirement already satisfied: idna in /Users/user001/anaconda3/lib/python3.11/site-packages (from httpx->llama-index-core<0.13,>=0.12.34->llama-index) (3.4)\n",
      "Requirement already satisfied: sniffio in /Users/user001/anaconda3/lib/python3.11/site-packages (from httpx->llama-index-core<0.13,>=0.12.34->llama-index) (1.2.0)\n",
      "Requirement already satisfied: h11<0.15,>=0.13 in /Users/user001/anaconda3/lib/python3.11/site-packages (from httpcore==1.*->httpx->llama-index-core<0.13,>=0.12.34->llama-index) (0.14.0)\n",
      "Requirement already satisfied: llama-cloud-services>=0.6.21 in /Users/user001/anaconda3/lib/python3.11/site-packages (from llama-parse>=0.5.0->llama-index-readers-llama-parse>=0.4.0->llama-index) (0.6.21)\n",
      "Requirement already satisfied: distro<2,>=1.7.0 in /Users/user001/anaconda3/lib/python3.11/site-packages (from openai>=1.14.0->llama-index-agent-openai<0.5,>=0.4.0->llama-index) (1.9.0)\n",
      "Requirement already satisfied: jiter<1,>=0.4.0 in /Users/user001/anaconda3/lib/python3.11/site-packages (from openai>=1.14.0->llama-index-agent-openai<0.5,>=0.4.0->llama-index) (0.9.0)\n",
      "Requirement already satisfied: annotated-types>=0.6.0 in /Users/user001/anaconda3/lib/python3.11/site-packages (from pydantic>=2.8.0->llama-index-core<0.13,>=0.12.34->llama-index) (0.7.0)\n",
      "Requirement already satisfied: pydantic-core==2.33.1 in /Users/user001/anaconda3/lib/python3.11/site-packages (from pydantic>=2.8.0->llama-index-core<0.13,>=0.12.34->llama-index) (2.33.1)\n",
      "Requirement already satisfied: typing-inspection>=0.4.0 in /Users/user001/anaconda3/lib/python3.11/site-packages (from pydantic>=2.8.0->llama-index-core<0.13,>=0.12.34->llama-index) (0.4.0)\n",
      "Requirement already satisfied: charset-normalizer<4,>=2 in /Users/user001/anaconda3/lib/python3.11/site-packages (from requests>=2.31.0->llama-index-core<0.13,>=0.12.34->llama-index) (2.0.4)\n",
      "Requirement already satisfied: urllib3<3,>=1.21.1 in /Users/user001/anaconda3/lib/python3.11/site-packages (from requests>=2.31.0->llama-index-core<0.13,>=0.12.34->llama-index) (1.26.16)\n",
      "Requirement already satisfied: greenlet!=0.4.17 in /Users/user001/anaconda3/lib/python3.11/site-packages (from sqlalchemy[asyncio]>=1.4.49->llama-index-core<0.13,>=0.12.34->llama-index) (2.0.1)\n",
      "Requirement already satisfied: mypy-extensions>=0.3.0 in /Users/user001/anaconda3/lib/python3.11/site-packages (from typing-inspect>=0.8.0->llama-index-core<0.13,>=0.12.34->llama-index) (1.0.0)\n",
      "Requirement already satisfied: marshmallow<4.0.0,>=3.18.0 in /Users/user001/anaconda3/lib/python3.11/site-packages (from dataclasses-json->llama-index-core<0.13,>=0.12.34->llama-index) (3.22.0)\n",
      "Requirement already satisfied: python-dateutil>=2.8.2 in /Users/user001/anaconda3/lib/python3.11/site-packages (from pandas->llama-index-readers-file<0.5,>=0.4.0->llama-index) (2.8.2)\n",
      "Requirement already satisfied: pytz>=2020.1 in /Users/user001/anaconda3/lib/python3.11/site-packages (from pandas->llama-index-readers-file<0.5,>=0.4.0->llama-index) (2023.3.post1)\n",
      "Requirement already satisfied: tzdata>=2022.1 in /Users/user001/anaconda3/lib/python3.11/site-packages (from pandas->llama-index-readers-file<0.5,>=0.4.0->llama-index) (2023.3)\n",
      "Requirement already satisfied: python-dotenv<2.0.0,>=1.0.1 in /Users/user001/anaconda3/lib/python3.11/site-packages (from llama-cloud-services>=0.6.21->llama-parse>=0.5.0->llama-index-readers-llama-parse>=0.4.0->llama-index) (1.1.0)\n",
      "Requirement already satisfied: packaging>=17.0 in /Users/user001/anaconda3/lib/python3.11/site-packages (from marshmallow<4.0.0,>=3.18.0->dataclasses-json->llama-index-core<0.13,>=0.12.34->llama-index) (24.2)\n",
      "Requirement already satisfied: six>=1.5 in /Users/user001/anaconda3/lib/python3.11/site-packages (from python-dateutil>=2.8.2->pandas->llama-index-readers-file<0.5,>=0.4.0->llama-index) (1.16.0)\n",
      "Requirement already satisfied: colorama>=0.4 in /Users/user001/anaconda3/lib/python3.11/site-packages (from griffe->banks<3,>=2.0.0->llama-index-core<0.13,>=0.12.34->llama-index) (0.4.6)\n",
      "Requirement already satisfied: MarkupSafe>=2.0 in /Users/user001/anaconda3/lib/python3.11/site-packages (from jinja2->banks<3,>=2.0.0->llama-index-core<0.13,>=0.12.34->llama-index) (2.1.1)\n",
      "Note: you may need to restart the kernel to use updated packages.\n"
     ]
    }
   ],
   "source": [
    "pip install llama-index"
   ]
  },
  {
   "cell_type": "code",
   "execution_count": 6,
   "id": "87c39a91",
   "metadata": {},
   "outputs": [],
   "source": [
    "#skip this section if you have no openai api key\n",
    "import getpass\n",
    "import os\n",
    "from dotenv import load_dotenv\n",
    "\n",
    "load_dotenv(os.path.expanduser(\"~/Projekte/MOOC/OpenCampus/codespace/.env\"))\n",
    "\n",
    "if \"OPENAI_API_KEY\" not in os.environ:\n",
    "    os.environ[\"OPENAI_API_KEY\"] = getpass.getpass(\n",
    "        prompt=\"Enter your OpenAI API key (required if using OpenAI): \"\n",
    "        # raise EnvironmentError(\"OPENAI_API_KEY not found in the .env file.\")\n",
    "    )"
   ]
  },
  {
   "cell_type": "markdown",
   "id": "dee07feb-7ee6-4a6f-8531-7f7770ed6671",
   "metadata": {},
   "source": [
    "Let's ask the model about if it knows about opencampus.sh"
   ]
  },
  {
   "cell_type": "code",
   "execution_count": 8,
   "id": "7100bf1a-c1bc-4928-8bba-8e71f580aac1",
   "metadata": {},
   "outputs": [
    {
     "name": "stdout",
     "output_type": "stream",
     "text": [
      "As of my last knowledge update in October 2023, \"opencampus.sh\" does not refer to a widely recognized or established platform, tool, or concept. It is possible that it could be a specific project, website, or initiative that has emerged after that date, or it may refer to a niche or localized project that is not widely known.\n",
      "\n",
      "If you have more context or specific details about \"opencampus.sh,\" I would be happy to help you understand it better or provide information based on that context. Otherwise, I recommend checking the latest online resources or the official website associated with \"opencampus.sh\" for the most accurate and up-to-date information.\n"
     ]
    }
   ],
   "source": [
    "from llama_index.llms.openai import OpenAI\n",
    "\n",
    "response = OpenAI(model=\"gpt-4o-mini\").complete(\"What is opencampus.sh ?\")\n",
    "print(response)"
   ]
  },
  {
   "cell_type": "markdown",
   "id": "cf6c12ad-393a-4f24-802a-a2da23f9b900",
   "metadata": {},
   "source": [
    "Uhh that is kind of a bummer, it does not even know about us. Probably because opencampus.sh is only fewly mentioned on any website etc.\n",
    "\n",
    "Let's try out the new 4.1 model"
   ]
  },
  {
   "cell_type": "code",
   "execution_count": 10,
   "id": "76759e34-856d-4e8e-8a1e-2c9b7f65f91d",
   "metadata": {},
   "outputs": [],
   "source": [
    "from llama_index.core.llms import ChatMessage\n",
    "llm = OpenAI(model=\"gpt-4.1-mini\")\n",
    "messages = [\n",
    "    ChatMessage(role=\"system\", content=\"You are a helpful assistant. You are knowledgeable about information technology and provide reliable technical answers to experienced people workin in IT.\"),\n",
    "    ChatMessage(role=\"user\", content=\"What is opencampus.sh\"),\n",
    "]\n",
    "chat_response = llm.chat(messages)"
   ]
  },
  {
   "cell_type": "code",
   "execution_count": 11,
   "id": "3281939d-6c07-46f0-bd01-b647e8759e78",
   "metadata": {},
   "outputs": [
    {
     "name": "stdout",
     "output_type": "stream",
     "text": [
      "assistant: opencampus.sh is a platform or service related to education and training, often focusing on providing open access to learning resources, courses, or collaborative educational environments. However, as of my latest knowledge update in June 2024, there is no widely recognized or official service specifically named \"opencampus.sh\" that is prominent in the IT or educational technology sectors.\n",
      "\n",
      "If you encountered \"opencampus.sh\" as a domain or tool, it might be:\n",
      "\n",
      "1. A custom or private platform hosted on a server with the `.sh` domain (which is the country code top-level domain for Saint Helena but often used for shell scripts or tech projects).\n",
      "2. A niche or emerging project related to open education, campus management, or online learning.\n",
      "3. A script or tool related to DevOps or cloud environments, given the `.sh` extension often associated with shell scripting.\n",
      "\n",
      "To provide a precise answer, could you share more context about where you found \"opencampus.sh\" (e.g., a URL, a software tool, a script, or a service)? Alternatively, you can perform a WHOIS lookup or visit the domain directly to gather more information about its purpose.\n",
      "\n",
      "If you want, I can help you analyze the site or service further if you provide additional details.\n"
     ]
    }
   ],
   "source": [
    "print(chat_response)"
   ]
  },
  {
   "cell_type": "markdown",
   "id": "40b1b618-d33f-45fc-8f6e-70283488fbb0",
   "metadata": {},
   "source": [
    "Hmm seems to go a bit into hallucinations here"
   ]
  },
  {
   "cell_type": "markdown",
   "id": "681ec06c-f4df-4894-8c06-69527c03494c",
   "metadata": {},
   "source": [
    "## Olama"
   ]
  },
  {
   "cell_type": "code",
   "execution_count": 14,
   "id": "0033ab4b-9ff1-43d9-ad66-32651fd65c05",
   "metadata": {},
   "outputs": [
    {
     "name": "stdout",
     "output_type": "stream",
     "text": [
      "Requirement already satisfied: llama-index-llms-ollama in /Users/user001/anaconda3/lib/python3.11/site-packages (0.5.4)\n",
      "Requirement already satisfied: llama-index-core<0.13.0,>=0.12.4 in /Users/user001/anaconda3/lib/python3.11/site-packages (from llama-index-llms-ollama) (0.12.34.post1)\n",
      "Requirement already satisfied: ollama>=0.4.3 in /Users/user001/anaconda3/lib/python3.11/site-packages (from llama-index-llms-ollama) (0.4.8)\n",
      "Requirement already satisfied: aiohttp<4,>=3.8.6 in /Users/user001/anaconda3/lib/python3.11/site-packages (from llama-index-core<0.13.0,>=0.12.4->llama-index-llms-ollama) (3.11.18)\n",
      "Requirement already satisfied: banks<3,>=2.0.0 in /Users/user001/anaconda3/lib/python3.11/site-packages (from llama-index-core<0.13.0,>=0.12.4->llama-index-llms-ollama) (2.1.2)\n",
      "Requirement already satisfied: dataclasses-json in /Users/user001/anaconda3/lib/python3.11/site-packages (from llama-index-core<0.13.0,>=0.12.4->llama-index-llms-ollama) (0.6.7)\n",
      "Requirement already satisfied: deprecated>=1.2.9.3 in /Users/user001/anaconda3/lib/python3.11/site-packages (from llama-index-core<0.13.0,>=0.12.4->llama-index-llms-ollama) (1.2.18)\n",
      "Requirement already satisfied: dirtyjson<2,>=1.0.8 in /Users/user001/anaconda3/lib/python3.11/site-packages (from llama-index-core<0.13.0,>=0.12.4->llama-index-llms-ollama) (1.0.8)\n",
      "Requirement already satisfied: filetype<2,>=1.2.0 in /Users/user001/anaconda3/lib/python3.11/site-packages (from llama-index-core<0.13.0,>=0.12.4->llama-index-llms-ollama) (1.2.0)\n",
      "Requirement already satisfied: fsspec>=2023.5.0 in /Users/user001/anaconda3/lib/python3.11/site-packages (from llama-index-core<0.13.0,>=0.12.4->llama-index-llms-ollama) (2025.3.2)\n",
      "Requirement already satisfied: httpx in /Users/user001/anaconda3/lib/python3.11/site-packages (from llama-index-core<0.13.0,>=0.12.4->llama-index-llms-ollama) (0.27.0)\n",
      "Requirement already satisfied: nest-asyncio<2,>=1.5.8 in /Users/user001/anaconda3/lib/python3.11/site-packages (from llama-index-core<0.13.0,>=0.12.4->llama-index-llms-ollama) (1.6.0)\n",
      "Requirement already satisfied: networkx>=3.0 in /Users/user001/anaconda3/lib/python3.11/site-packages (from llama-index-core<0.13.0,>=0.12.4->llama-index-llms-ollama) (3.1)\n",
      "Requirement already satisfied: nltk>3.8.1 in /Users/user001/anaconda3/lib/python3.11/site-packages (from llama-index-core<0.13.0,>=0.12.4->llama-index-llms-ollama) (3.9.1)\n",
      "Requirement already satisfied: numpy in /Users/user001/anaconda3/lib/python3.11/site-packages (from llama-index-core<0.13.0,>=0.12.4->llama-index-llms-ollama) (2.2.5)\n",
      "Requirement already satisfied: pillow>=9.0.0 in /Users/user001/anaconda3/lib/python3.11/site-packages (from llama-index-core<0.13.0,>=0.12.4->llama-index-llms-ollama) (10.0.1)\n",
      "Requirement already satisfied: pydantic>=2.8.0 in /Users/user001/anaconda3/lib/python3.11/site-packages (from llama-index-core<0.13.0,>=0.12.4->llama-index-llms-ollama) (2.11.3)\n",
      "Requirement already satisfied: pyyaml>=6.0.1 in /Users/user001/anaconda3/lib/python3.11/site-packages (from llama-index-core<0.13.0,>=0.12.4->llama-index-llms-ollama) (6.0.2)\n",
      "Requirement already satisfied: requests>=2.31.0 in /Users/user001/anaconda3/lib/python3.11/site-packages (from llama-index-core<0.13.0,>=0.12.4->llama-index-llms-ollama) (2.31.0)\n",
      "Requirement already satisfied: sqlalchemy[asyncio]>=1.4.49 in /Users/user001/anaconda3/lib/python3.11/site-packages (from llama-index-core<0.13.0,>=0.12.4->llama-index-llms-ollama) (2.0.35)\n",
      "Requirement already satisfied: tenacity!=8.4.0,<10.0.0,>=8.2.0 in /Users/user001/anaconda3/lib/python3.11/site-packages (from llama-index-core<0.13.0,>=0.12.4->llama-index-llms-ollama) (8.2.2)\n",
      "Requirement already satisfied: tiktoken>=0.7.0 in /Users/user001/anaconda3/lib/python3.11/site-packages (from llama-index-core<0.13.0,>=0.12.4->llama-index-llms-ollama) (0.9.0)\n",
      "Requirement already satisfied: tqdm<5,>=4.66.1 in /Users/user001/anaconda3/lib/python3.11/site-packages (from llama-index-core<0.13.0,>=0.12.4->llama-index-llms-ollama) (4.67.1)\n",
      "Requirement already satisfied: typing-extensions>=4.5.0 in /Users/user001/anaconda3/lib/python3.11/site-packages (from llama-index-core<0.13.0,>=0.12.4->llama-index-llms-ollama) (4.13.2)\n",
      "Requirement already satisfied: typing-inspect>=0.8.0 in /Users/user001/anaconda3/lib/python3.11/site-packages (from llama-index-core<0.13.0,>=0.12.4->llama-index-llms-ollama) (0.9.0)\n",
      "Requirement already satisfied: wrapt in /Users/user001/anaconda3/lib/python3.11/site-packages (from llama-index-core<0.13.0,>=0.12.4->llama-index-llms-ollama) (1.14.1)\n",
      "Requirement already satisfied: aiohappyeyeballs>=2.3.0 in /Users/user001/anaconda3/lib/python3.11/site-packages (from aiohttp<4,>=3.8.6->llama-index-core<0.13.0,>=0.12.4->llama-index-llms-ollama) (2.6.1)\n",
      "Requirement already satisfied: aiosignal>=1.1.2 in /Users/user001/anaconda3/lib/python3.11/site-packages (from aiohttp<4,>=3.8.6->llama-index-core<0.13.0,>=0.12.4->llama-index-llms-ollama) (1.2.0)\n",
      "Requirement already satisfied: attrs>=17.3.0 in /Users/user001/anaconda3/lib/python3.11/site-packages (from aiohttp<4,>=3.8.6->llama-index-core<0.13.0,>=0.12.4->llama-index-llms-ollama) (22.1.0)\n",
      "Requirement already satisfied: frozenlist>=1.1.1 in /Users/user001/anaconda3/lib/python3.11/site-packages (from aiohttp<4,>=3.8.6->llama-index-core<0.13.0,>=0.12.4->llama-index-llms-ollama) (1.3.3)\n",
      "Requirement already satisfied: multidict<7.0,>=4.5 in /Users/user001/anaconda3/lib/python3.11/site-packages (from aiohttp<4,>=3.8.6->llama-index-core<0.13.0,>=0.12.4->llama-index-llms-ollama) (6.0.2)\n",
      "Requirement already satisfied: propcache>=0.2.0 in /Users/user001/anaconda3/lib/python3.11/site-packages (from aiohttp<4,>=3.8.6->llama-index-core<0.13.0,>=0.12.4->llama-index-llms-ollama) (0.3.1)\n",
      "Requirement already satisfied: yarl<2.0,>=1.17.0 in /Users/user001/anaconda3/lib/python3.11/site-packages (from aiohttp<4,>=3.8.6->llama-index-core<0.13.0,>=0.12.4->llama-index-llms-ollama) (1.20.0)\n",
      "Requirement already satisfied: griffe in /Users/user001/anaconda3/lib/python3.11/site-packages (from banks<3,>=2.0.0->llama-index-core<0.13.0,>=0.12.4->llama-index-llms-ollama) (1.7.3)\n",
      "Requirement already satisfied: jinja2 in /Users/user001/anaconda3/lib/python3.11/site-packages (from banks<3,>=2.0.0->llama-index-core<0.13.0,>=0.12.4->llama-index-llms-ollama) (3.1.2)\n",
      "Requirement already satisfied: platformdirs in /Users/user001/anaconda3/lib/python3.11/site-packages (from banks<3,>=2.0.0->llama-index-core<0.13.0,>=0.12.4->llama-index-llms-ollama) (4.3.7)\n",
      "Requirement already satisfied: anyio in /Users/user001/anaconda3/lib/python3.11/site-packages (from httpx->llama-index-core<0.13.0,>=0.12.4->llama-index-llms-ollama) (3.5.0)\n",
      "Requirement already satisfied: certifi in /Users/user001/anaconda3/lib/python3.11/site-packages (from httpx->llama-index-core<0.13.0,>=0.12.4->llama-index-llms-ollama) (2025.1.31)\n",
      "Requirement already satisfied: httpcore==1.* in /Users/user001/anaconda3/lib/python3.11/site-packages (from httpx->llama-index-core<0.13.0,>=0.12.4->llama-index-llms-ollama) (1.0.5)\n",
      "Requirement already satisfied: idna in /Users/user001/anaconda3/lib/python3.11/site-packages (from httpx->llama-index-core<0.13.0,>=0.12.4->llama-index-llms-ollama) (3.4)\n",
      "Requirement already satisfied: sniffio in /Users/user001/anaconda3/lib/python3.11/site-packages (from httpx->llama-index-core<0.13.0,>=0.12.4->llama-index-llms-ollama) (1.2.0)\n",
      "Requirement already satisfied: h11<0.15,>=0.13 in /Users/user001/anaconda3/lib/python3.11/site-packages (from httpcore==1.*->httpx->llama-index-core<0.13.0,>=0.12.4->llama-index-llms-ollama) (0.14.0)\n",
      "Requirement already satisfied: click in /Users/user001/anaconda3/lib/python3.11/site-packages (from nltk>3.8.1->llama-index-core<0.13.0,>=0.12.4->llama-index-llms-ollama) (8.1.8)\n",
      "Requirement already satisfied: joblib in /Users/user001/anaconda3/lib/python3.11/site-packages (from nltk>3.8.1->llama-index-core<0.13.0,>=0.12.4->llama-index-llms-ollama) (1.2.0)\n",
      "Requirement already satisfied: regex>=2021.8.3 in /Users/user001/anaconda3/lib/python3.11/site-packages (from nltk>3.8.1->llama-index-core<0.13.0,>=0.12.4->llama-index-llms-ollama) (2022.7.9)\n",
      "Requirement already satisfied: annotated-types>=0.6.0 in /Users/user001/anaconda3/lib/python3.11/site-packages (from pydantic>=2.8.0->llama-index-core<0.13.0,>=0.12.4->llama-index-llms-ollama) (0.7.0)\n",
      "Requirement already satisfied: pydantic-core==2.33.1 in /Users/user001/anaconda3/lib/python3.11/site-packages (from pydantic>=2.8.0->llama-index-core<0.13.0,>=0.12.4->llama-index-llms-ollama) (2.33.1)\n",
      "Requirement already satisfied: typing-inspection>=0.4.0 in /Users/user001/anaconda3/lib/python3.11/site-packages (from pydantic>=2.8.0->llama-index-core<0.13.0,>=0.12.4->llama-index-llms-ollama) (0.4.0)\n",
      "Requirement already satisfied: charset-normalizer<4,>=2 in /Users/user001/anaconda3/lib/python3.11/site-packages (from requests>=2.31.0->llama-index-core<0.13.0,>=0.12.4->llama-index-llms-ollama) (2.0.4)\n",
      "Requirement already satisfied: urllib3<3,>=1.21.1 in /Users/user001/anaconda3/lib/python3.11/site-packages (from requests>=2.31.0->llama-index-core<0.13.0,>=0.12.4->llama-index-llms-ollama) (1.26.16)\n",
      "Requirement already satisfied: greenlet!=0.4.17 in /Users/user001/anaconda3/lib/python3.11/site-packages (from sqlalchemy[asyncio]>=1.4.49->llama-index-core<0.13.0,>=0.12.4->llama-index-llms-ollama) (2.0.1)\n",
      "Requirement already satisfied: mypy-extensions>=0.3.0 in /Users/user001/anaconda3/lib/python3.11/site-packages (from typing-inspect>=0.8.0->llama-index-core<0.13.0,>=0.12.4->llama-index-llms-ollama) (1.0.0)\n",
      "Requirement already satisfied: marshmallow<4.0.0,>=3.18.0 in /Users/user001/anaconda3/lib/python3.11/site-packages (from dataclasses-json->llama-index-core<0.13.0,>=0.12.4->llama-index-llms-ollama) (3.22.0)\n",
      "Requirement already satisfied: packaging>=17.0 in /Users/user001/anaconda3/lib/python3.11/site-packages (from marshmallow<4.0.0,>=3.18.0->dataclasses-json->llama-index-core<0.13.0,>=0.12.4->llama-index-llms-ollama) (24.2)\n",
      "Requirement already satisfied: colorama>=0.4 in /Users/user001/anaconda3/lib/python3.11/site-packages (from griffe->banks<3,>=2.0.0->llama-index-core<0.13.0,>=0.12.4->llama-index-llms-ollama) (0.4.6)\n",
      "Requirement already satisfied: MarkupSafe>=2.0 in /Users/user001/anaconda3/lib/python3.11/site-packages (from jinja2->banks<3,>=2.0.0->llama-index-core<0.13.0,>=0.12.4->llama-index-llms-ollama) (2.1.1)\n",
      "Note: you may need to restart the kernel to use updated packages.\n"
     ]
    }
   ],
   "source": [
    "pip install llama-index-llms-ollama"
   ]
  },
  {
   "cell_type": "code",
   "execution_count": 15,
   "id": "6c2e6417-107c-449e-8cf1-9db4a981348f",
   "metadata": {},
   "outputs": [
    {
     "name": "stdout",
     "output_type": "stream",
     "text": [
      "assistant: Okay, let's dive into OpenCampus.sh!\n",
      "\n",
      "**What is OpenCampus.sh?**\n",
      "\n",
      "OpenCampus.sh is a fascinating and rapidly growing project focused on **open-source, self-hosted, and collaborative knowledge discovery and documentation for the field of cybersecurity**. It’s essentially a massive, interconnected database of cybersecurity knowledge, built and maintained by a global community.\n",
      "\n",
      "Here's a breakdown of what makes it unique and important:\n",
      "\n",
      "**1. Core Concept: The \"Cybersecurity Knowledge Graph\"**\n",
      "\n",
      "* **It's a graph database:**  Instead of a traditional encyclopedia, OpenCampus.sh organizes cybersecurity knowledge in a graph structure.  Nodes represent concepts (e.g., \"Phishing,\" \"SQL Injection,\" \"RSA Encryption,\" \"Zero-Day Exploit\"), and edges represent relationships between them (e.g., \"Phishing *uses* SQL Injection,\" \"RSA Encryption *is used for* digital signatures\").\n",
      "\n",
      "**2. Key Features & What it Offers:**\n",
      "\n",
      "* **Self-Hosted:** This is a HUGE deal. Unlike many large knowledge bases that are controlled by a single entity, OpenCampus.sh is *completely open source* and can be hosted anywhere – on your own server, in your own cloud environment, etc. This is a critical aspect of its mission.\n",
      "* **Collaborative & Community-Driven:** It's not just a database; it’s a community.  Researchers, security professionals, students, and anyone interested in cybersecurity can contribute, validate, and expand the knowledge.\n",
      "* **Extensive Coverage:**  It covers a huge range of cybersecurity topics, including:\n",
      "    * **Threat Intelligence:**  Alerts, indicators, and analysis.\n",
      "    * **Vulnerability Management:** Explanations of vulnerabilities and remediation.\n",
      "    * **Cryptography:**  Algorithms, protocols, and standards.\n",
      "    * **Security Practices:**  Best practices, frameworks, and tools.\n",
      "    * **Exploitation Techniques:**  Detailed information on how exploits work.\n",
      "* **Detailed Documentation:** The project provides incredibly detailed documentation for each node and edge, making it easy to understand and navigate.\n",
      "* **Interactive Exploration:** Users can explore the graph, zoom in on specific nodes, and discover connections.\n",
      "\n",
      "**3.  Why is it Significant?**\n",
      "\n",
      "* **Decentralization & Resilience:** By being self-hosted, it's less vulnerable to censorship or single points of failure.\n",
      "* **Transparency & Auditability:**  The open-source nature allows for independent verification and auditing.\n",
      "* **Customization & Adaptation:**  It can be tailored to specific needs and domains.\n",
      "* **Community-Driven Innovation:** The collaborative aspect fosters innovation and discovery.\n",
      "\n",
      "**4.  Where to Learn More:**\n",
      "\n",
      "* **Official Website:** [https://opencampus.sh/](https://opencampus.sh/) -  This is the best place to start!\n",
      "\n",
      "**In short, OpenCampus.sh is a game-changing project that's transforming how cybersecurity knowledge is structured and accessed – it's a move towards a more collaborative and transparent cybersecurity landscape.**\n",
      "\n",
      "---\n",
      "\n",
      "**Do you want me to delve deeper into a specific aspect of OpenCampus.sh, such as:**\n",
      "\n",
      "*   Its technical architecture?\n",
      "*   How it's used by security researchers?\n",
      "*   Its potential impact on cybersecurity education?\n"
     ]
    }
   ],
   "source": [
    "from llama_index.llms.ollama import Ollama\n",
    "from llama_index.core.llms import ChatMessage\n",
    "\n",
    "llm = Ollama(model=\"gemma3:1b\", request_timeout=60.0)\n",
    "\n",
    "messages = [\n",
    "    ChatMessage(role=\"system\", content=\"You are a helpful assistant.\"),\n",
    "    ChatMessage(role=\"user\", content=\"What is the organisation 'opencampus.sh'?\"),\n",
    "]\n",
    "\n",
    "chat_response = llm.chat(messages)\n",
    "print(chat_response)"
   ]
  },
  {
   "cell_type": "markdown",
   "id": "0149a62e-d2ca-4d70-82cc-586e7c1baafe",
   "metadata": {},
   "source": [
    "Oh dear.."
   ]
  },
  {
   "cell_type": "markdown",
   "id": "fb1a71c5-25ce-4d7a-8bc8-82a2c65bd465",
   "metadata": {},
   "source": [
    "## Conclusion\n",
    "\n",
    "We have libraries which wrap the llm call into functions and classes of their liking. We gain that we can easily switch between different model providers but loose at lot of flexibility."
   ]
  }
 ],
 "metadata": {
  "kernelspec": {
   "display_name": "Python 3 (ipykernel)",
   "language": "python",
   "name": "python3"
  },
  "language_info": {
   "codemirror_mode": {
    "name": "ipython",
    "version": 3
   },
   "file_extension": ".py",
   "mimetype": "text/x-python",
   "name": "python",
   "nbconvert_exporter": "python",
   "pygments_lexer": "ipython3",
   "version": "3.11.5"
  }
 },
 "nbformat": 4,
 "nbformat_minor": 5
}
