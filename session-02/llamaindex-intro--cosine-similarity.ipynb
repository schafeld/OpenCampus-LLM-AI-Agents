{
 "cells": [
  {
   "cell_type": "markdown",
   "id": "25c75732-3e10-48c9-89d3-dd43595bbc3d",
   "metadata": {},
   "source": [
    "# First llamaindex tutorial"
   ]
  },
  {
   "cell_type": "markdown",
   "id": "e5b5a67c-fc98-44c2-b534-b20025276e51",
   "metadata": {},
   "source": [
    "Prepare to import your API key"
   ]
  },
  {
   "cell_type": "code",
   "execution_count": 3,
   "id": "77edabf7-09fb-4f4c-9930-f75b522ef2db",
   "metadata": {},
   "outputs": [
    {
     "name": "stdout",
     "output_type": "stream",
     "text": [
      "Requirement already satisfied: python-dotenv in /Users/user001/anaconda3/lib/python3.11/site-packages (1.1.0)\n",
      "Note: you may need to restart the kernel to use updated packages.\n"
     ]
    }
   ],
   "source": [
    "pip install python-dotenv"
   ]
  },
  {
   "cell_type": "markdown",
   "id": "1d7865bf-2c6d-4fb0-84a9-d6bb4ffd2f5a",
   "metadata": {},
   "source": [
    "Similar to langchain llamaindex provides a lot of functionality to easily work with LLMs. It is one of the most popular frameworks besides langchain"
   ]
  },
  {
   "cell_type": "code",
   "execution_count": 5,
   "id": "53499eb2-dacd-4395-ba3b-e413492d1444",
   "metadata": {},
   "outputs": [
    {
     "name": "stdout",
     "output_type": "stream",
     "text": [
      "Requirement already satisfied: llama-index in /Users/user001/anaconda3/lib/python3.11/site-packages (0.12.34)\n",
      "Requirement already satisfied: llama-index-agent-openai<0.5,>=0.4.0 in /Users/user001/anaconda3/lib/python3.11/site-packages (from llama-index) (0.4.7)\n",
      "Requirement already satisfied: llama-index-cli<0.5,>=0.4.1 in /Users/user001/anaconda3/lib/python3.11/site-packages (from llama-index) (0.4.1)\n",
      "Requirement already satisfied: llama-index-core<0.13,>=0.12.34 in /Users/user001/anaconda3/lib/python3.11/site-packages (from llama-index) (0.12.34.post1)\n",
      "Requirement already satisfied: llama-index-embeddings-openai<0.4,>=0.3.0 in /Users/user001/anaconda3/lib/python3.11/site-packages (from llama-index) (0.3.1)\n",
      "Requirement already satisfied: llama-index-indices-managed-llama-cloud>=0.4.0 in /Users/user001/anaconda3/lib/python3.11/site-packages (from llama-index) (0.6.11)\n",
      "Requirement already satisfied: llama-index-llms-openai<0.4,>=0.3.0 in /Users/user001/anaconda3/lib/python3.11/site-packages (from llama-index) (0.3.38)\n",
      "Requirement already satisfied: llama-index-multi-modal-llms-openai<0.5,>=0.4.0 in /Users/user001/anaconda3/lib/python3.11/site-packages (from llama-index) (0.4.3)\n",
      "Requirement already satisfied: llama-index-program-openai<0.4,>=0.3.0 in /Users/user001/anaconda3/lib/python3.11/site-packages (from llama-index) (0.3.1)\n",
      "Requirement already satisfied: llama-index-question-gen-openai<0.4,>=0.3.0 in /Users/user001/anaconda3/lib/python3.11/site-packages (from llama-index) (0.3.0)\n",
      "Requirement already satisfied: llama-index-readers-file<0.5,>=0.4.0 in /Users/user001/anaconda3/lib/python3.11/site-packages (from llama-index) (0.4.7)\n",
      "Requirement already satisfied: llama-index-readers-llama-parse>=0.4.0 in /Users/user001/anaconda3/lib/python3.11/site-packages (from llama-index) (0.4.0)\n",
      "Requirement already satisfied: nltk>3.8.1 in /Users/user001/anaconda3/lib/python3.11/site-packages (from llama-index) (3.9.1)\n",
      "Requirement already satisfied: openai>=1.14.0 in /Users/user001/anaconda3/lib/python3.11/site-packages (from llama-index-agent-openai<0.5,>=0.4.0->llama-index) (1.77.0)\n",
      "Requirement already satisfied: aiohttp<4,>=3.8.6 in /Users/user001/anaconda3/lib/python3.11/site-packages (from llama-index-core<0.13,>=0.12.34->llama-index) (3.11.18)\n",
      "Requirement already satisfied: banks<3,>=2.0.0 in /Users/user001/anaconda3/lib/python3.11/site-packages (from llama-index-core<0.13,>=0.12.34->llama-index) (2.1.2)\n",
      "Requirement already satisfied: dataclasses-json in /Users/user001/anaconda3/lib/python3.11/site-packages (from llama-index-core<0.13,>=0.12.34->llama-index) (0.6.7)\n",
      "Requirement already satisfied: deprecated>=1.2.9.3 in /Users/user001/anaconda3/lib/python3.11/site-packages (from llama-index-core<0.13,>=0.12.34->llama-index) (1.2.18)\n",
      "Requirement already satisfied: dirtyjson<2,>=1.0.8 in /Users/user001/anaconda3/lib/python3.11/site-packages (from llama-index-core<0.13,>=0.12.34->llama-index) (1.0.8)\n",
      "Requirement already satisfied: filetype<2,>=1.2.0 in /Users/user001/anaconda3/lib/python3.11/site-packages (from llama-index-core<0.13,>=0.12.34->llama-index) (1.2.0)\n",
      "Requirement already satisfied: fsspec>=2023.5.0 in /Users/user001/anaconda3/lib/python3.11/site-packages (from llama-index-core<0.13,>=0.12.34->llama-index) (2025.3.2)\n",
      "Requirement already satisfied: httpx in /Users/user001/anaconda3/lib/python3.11/site-packages (from llama-index-core<0.13,>=0.12.34->llama-index) (0.27.0)\n",
      "Requirement already satisfied: nest-asyncio<2,>=1.5.8 in /Users/user001/anaconda3/lib/python3.11/site-packages (from llama-index-core<0.13,>=0.12.34->llama-index) (1.6.0)\n",
      "Requirement already satisfied: networkx>=3.0 in /Users/user001/anaconda3/lib/python3.11/site-packages (from llama-index-core<0.13,>=0.12.34->llama-index) (3.1)\n",
      "Requirement already satisfied: numpy in /Users/user001/anaconda3/lib/python3.11/site-packages (from llama-index-core<0.13,>=0.12.34->llama-index) (2.2.5)\n",
      "Requirement already satisfied: pillow>=9.0.0 in /Users/user001/anaconda3/lib/python3.11/site-packages (from llama-index-core<0.13,>=0.12.34->llama-index) (10.0.1)\n",
      "Requirement already satisfied: pydantic>=2.8.0 in /Users/user001/anaconda3/lib/python3.11/site-packages (from llama-index-core<0.13,>=0.12.34->llama-index) (2.11.3)\n",
      "Requirement already satisfied: pyyaml>=6.0.1 in /Users/user001/anaconda3/lib/python3.11/site-packages (from llama-index-core<0.13,>=0.12.34->llama-index) (6.0.2)\n",
      "Requirement already satisfied: requests>=2.31.0 in /Users/user001/anaconda3/lib/python3.11/site-packages (from llama-index-core<0.13,>=0.12.34->llama-index) (2.31.0)\n",
      "Requirement already satisfied: sqlalchemy[asyncio]>=1.4.49 in /Users/user001/anaconda3/lib/python3.11/site-packages (from llama-index-core<0.13,>=0.12.34->llama-index) (2.0.35)\n",
      "Requirement already satisfied: tenacity!=8.4.0,<10.0.0,>=8.2.0 in /Users/user001/anaconda3/lib/python3.11/site-packages (from llama-index-core<0.13,>=0.12.34->llama-index) (8.2.2)\n",
      "Requirement already satisfied: tiktoken>=0.7.0 in /Users/user001/anaconda3/lib/python3.11/site-packages (from llama-index-core<0.13,>=0.12.34->llama-index) (0.9.0)\n",
      "Requirement already satisfied: tqdm<5,>=4.66.1 in /Users/user001/anaconda3/lib/python3.11/site-packages (from llama-index-core<0.13,>=0.12.34->llama-index) (4.67.1)\n",
      "Requirement already satisfied: typing-extensions>=4.5.0 in /Users/user001/anaconda3/lib/python3.11/site-packages (from llama-index-core<0.13,>=0.12.34->llama-index) (4.13.2)\n",
      "Requirement already satisfied: typing-inspect>=0.8.0 in /Users/user001/anaconda3/lib/python3.11/site-packages (from llama-index-core<0.13,>=0.12.34->llama-index) (0.9.0)\n",
      "Requirement already satisfied: wrapt in /Users/user001/anaconda3/lib/python3.11/site-packages (from llama-index-core<0.13,>=0.12.34->llama-index) (1.14.1)\n",
      "Requirement already satisfied: llama-cloud<0.2.0,>=0.1.13 in /Users/user001/anaconda3/lib/python3.11/site-packages (from llama-index-indices-managed-llama-cloud>=0.4.0->llama-index) (0.1.19)\n",
      "Requirement already satisfied: beautifulsoup4<5.0.0,>=4.12.3 in /Users/user001/anaconda3/lib/python3.11/site-packages (from llama-index-readers-file<0.5,>=0.4.0->llama-index) (4.13.4)\n",
      "Requirement already satisfied: pandas in /Users/user001/anaconda3/lib/python3.11/site-packages (from llama-index-readers-file<0.5,>=0.4.0->llama-index) (2.0.3)\n",
      "Requirement already satisfied: pypdf<6.0.0,>=5.1.0 in /Users/user001/anaconda3/lib/python3.11/site-packages (from llama-index-readers-file<0.5,>=0.4.0->llama-index) (5.4.0)\n",
      "Requirement already satisfied: striprtf<0.0.27,>=0.0.26 in /Users/user001/anaconda3/lib/python3.11/site-packages (from llama-index-readers-file<0.5,>=0.4.0->llama-index) (0.0.26)\n",
      "Requirement already satisfied: llama-parse>=0.5.0 in /Users/user001/anaconda3/lib/python3.11/site-packages (from llama-index-readers-llama-parse>=0.4.0->llama-index) (0.6.21)\n",
      "Requirement already satisfied: click in /Users/user001/anaconda3/lib/python3.11/site-packages (from nltk>3.8.1->llama-index) (8.1.8)\n",
      "Requirement already satisfied: joblib in /Users/user001/anaconda3/lib/python3.11/site-packages (from nltk>3.8.1->llama-index) (1.2.0)\n",
      "Requirement already satisfied: regex>=2021.8.3 in /Users/user001/anaconda3/lib/python3.11/site-packages (from nltk>3.8.1->llama-index) (2022.7.9)\n",
      "Requirement already satisfied: aiohappyeyeballs>=2.3.0 in /Users/user001/anaconda3/lib/python3.11/site-packages (from aiohttp<4,>=3.8.6->llama-index-core<0.13,>=0.12.34->llama-index) (2.6.1)\n",
      "Requirement already satisfied: aiosignal>=1.1.2 in /Users/user001/anaconda3/lib/python3.11/site-packages (from aiohttp<4,>=3.8.6->llama-index-core<0.13,>=0.12.34->llama-index) (1.2.0)\n",
      "Requirement already satisfied: attrs>=17.3.0 in /Users/user001/anaconda3/lib/python3.11/site-packages (from aiohttp<4,>=3.8.6->llama-index-core<0.13,>=0.12.34->llama-index) (22.1.0)\n",
      "Requirement already satisfied: frozenlist>=1.1.1 in /Users/user001/anaconda3/lib/python3.11/site-packages (from aiohttp<4,>=3.8.6->llama-index-core<0.13,>=0.12.34->llama-index) (1.3.3)\n",
      "Requirement already satisfied: multidict<7.0,>=4.5 in /Users/user001/anaconda3/lib/python3.11/site-packages (from aiohttp<4,>=3.8.6->llama-index-core<0.13,>=0.12.34->llama-index) (6.0.2)\n",
      "Requirement already satisfied: propcache>=0.2.0 in /Users/user001/anaconda3/lib/python3.11/site-packages (from aiohttp<4,>=3.8.6->llama-index-core<0.13,>=0.12.34->llama-index) (0.3.1)\n",
      "Requirement already satisfied: yarl<2.0,>=1.17.0 in /Users/user001/anaconda3/lib/python3.11/site-packages (from aiohttp<4,>=3.8.6->llama-index-core<0.13,>=0.12.34->llama-index) (1.20.0)\n",
      "Requirement already satisfied: griffe in /Users/user001/anaconda3/lib/python3.11/site-packages (from banks<3,>=2.0.0->llama-index-core<0.13,>=0.12.34->llama-index) (1.7.3)\n",
      "Requirement already satisfied: jinja2 in /Users/user001/anaconda3/lib/python3.11/site-packages (from banks<3,>=2.0.0->llama-index-core<0.13,>=0.12.34->llama-index) (3.1.2)\n",
      "Requirement already satisfied: platformdirs in /Users/user001/anaconda3/lib/python3.11/site-packages (from banks<3,>=2.0.0->llama-index-core<0.13,>=0.12.34->llama-index) (4.3.7)\n",
      "Requirement already satisfied: soupsieve>1.2 in /Users/user001/anaconda3/lib/python3.11/site-packages (from beautifulsoup4<5.0.0,>=4.12.3->llama-index-readers-file<0.5,>=0.4.0->llama-index) (2.4)\n",
      "Requirement already satisfied: certifi>=2024.7.4 in /Users/user001/anaconda3/lib/python3.11/site-packages (from llama-cloud<0.2.0,>=0.1.13->llama-index-indices-managed-llama-cloud>=0.4.0->llama-index) (2025.1.31)\n",
      "Requirement already satisfied: anyio in /Users/user001/anaconda3/lib/python3.11/site-packages (from httpx->llama-index-core<0.13,>=0.12.34->llama-index) (3.5.0)\n",
      "Requirement already satisfied: httpcore==1.* in /Users/user001/anaconda3/lib/python3.11/site-packages (from httpx->llama-index-core<0.13,>=0.12.34->llama-index) (1.0.5)\n",
      "Requirement already satisfied: idna in /Users/user001/anaconda3/lib/python3.11/site-packages (from httpx->llama-index-core<0.13,>=0.12.34->llama-index) (3.4)\n",
      "Requirement already satisfied: sniffio in /Users/user001/anaconda3/lib/python3.11/site-packages (from httpx->llama-index-core<0.13,>=0.12.34->llama-index) (1.2.0)\n",
      "Requirement already satisfied: h11<0.15,>=0.13 in /Users/user001/anaconda3/lib/python3.11/site-packages (from httpcore==1.*->httpx->llama-index-core<0.13,>=0.12.34->llama-index) (0.14.0)\n",
      "Requirement already satisfied: llama-cloud-services>=0.6.21 in /Users/user001/anaconda3/lib/python3.11/site-packages (from llama-parse>=0.5.0->llama-index-readers-llama-parse>=0.4.0->llama-index) (0.6.21)\n",
      "Requirement already satisfied: distro<2,>=1.7.0 in /Users/user001/anaconda3/lib/python3.11/site-packages (from openai>=1.14.0->llama-index-agent-openai<0.5,>=0.4.0->llama-index) (1.9.0)\n",
      "Requirement already satisfied: jiter<1,>=0.4.0 in /Users/user001/anaconda3/lib/python3.11/site-packages (from openai>=1.14.0->llama-index-agent-openai<0.5,>=0.4.0->llama-index) (0.9.0)\n",
      "Requirement already satisfied: annotated-types>=0.6.0 in /Users/user001/anaconda3/lib/python3.11/site-packages (from pydantic>=2.8.0->llama-index-core<0.13,>=0.12.34->llama-index) (0.7.0)\n",
      "Requirement already satisfied: pydantic-core==2.33.1 in /Users/user001/anaconda3/lib/python3.11/site-packages (from pydantic>=2.8.0->llama-index-core<0.13,>=0.12.34->llama-index) (2.33.1)\n",
      "Requirement already satisfied: typing-inspection>=0.4.0 in /Users/user001/anaconda3/lib/python3.11/site-packages (from pydantic>=2.8.0->llama-index-core<0.13,>=0.12.34->llama-index) (0.4.0)\n",
      "Requirement already satisfied: charset-normalizer<4,>=2 in /Users/user001/anaconda3/lib/python3.11/site-packages (from requests>=2.31.0->llama-index-core<0.13,>=0.12.34->llama-index) (2.0.4)\n",
      "Requirement already satisfied: urllib3<3,>=1.21.1 in /Users/user001/anaconda3/lib/python3.11/site-packages (from requests>=2.31.0->llama-index-core<0.13,>=0.12.34->llama-index) (1.26.16)\n",
      "Requirement already satisfied: greenlet!=0.4.17 in /Users/user001/anaconda3/lib/python3.11/site-packages (from sqlalchemy[asyncio]>=1.4.49->llama-index-core<0.13,>=0.12.34->llama-index) (2.0.1)\n",
      "Requirement already satisfied: mypy-extensions>=0.3.0 in /Users/user001/anaconda3/lib/python3.11/site-packages (from typing-inspect>=0.8.0->llama-index-core<0.13,>=0.12.34->llama-index) (1.0.0)\n",
      "Requirement already satisfied: marshmallow<4.0.0,>=3.18.0 in /Users/user001/anaconda3/lib/python3.11/site-packages (from dataclasses-json->llama-index-core<0.13,>=0.12.34->llama-index) (3.22.0)\n",
      "Requirement already satisfied: python-dateutil>=2.8.2 in /Users/user001/anaconda3/lib/python3.11/site-packages (from pandas->llama-index-readers-file<0.5,>=0.4.0->llama-index) (2.8.2)\n",
      "Requirement already satisfied: pytz>=2020.1 in /Users/user001/anaconda3/lib/python3.11/site-packages (from pandas->llama-index-readers-file<0.5,>=0.4.0->llama-index) (2023.3.post1)\n",
      "Requirement already satisfied: tzdata>=2022.1 in /Users/user001/anaconda3/lib/python3.11/site-packages (from pandas->llama-index-readers-file<0.5,>=0.4.0->llama-index) (2023.3)\n",
      "Requirement already satisfied: python-dotenv<2.0.0,>=1.0.1 in /Users/user001/anaconda3/lib/python3.11/site-packages (from llama-cloud-services>=0.6.21->llama-parse>=0.5.0->llama-index-readers-llama-parse>=0.4.0->llama-index) (1.1.0)\n",
      "Requirement already satisfied: packaging>=17.0 in /Users/user001/anaconda3/lib/python3.11/site-packages (from marshmallow<4.0.0,>=3.18.0->dataclasses-json->llama-index-core<0.13,>=0.12.34->llama-index) (24.2)\n",
      "Requirement already satisfied: six>=1.5 in /Users/user001/anaconda3/lib/python3.11/site-packages (from python-dateutil>=2.8.2->pandas->llama-index-readers-file<0.5,>=0.4.0->llama-index) (1.16.0)\n",
      "Requirement already satisfied: colorama>=0.4 in /Users/user001/anaconda3/lib/python3.11/site-packages (from griffe->banks<3,>=2.0.0->llama-index-core<0.13,>=0.12.34->llama-index) (0.4.6)\n",
      "Requirement already satisfied: MarkupSafe>=2.0 in /Users/user001/anaconda3/lib/python3.11/site-packages (from jinja2->banks<3,>=2.0.0->llama-index-core<0.13,>=0.12.34->llama-index) (2.1.1)\n",
      "Note: you may need to restart the kernel to use updated packages.\n"
     ]
    }
   ],
   "source": [
    "pip install llama-index"
   ]
  },
  {
   "cell_type": "code",
   "execution_count": 6,
   "id": "87c39a91",
   "metadata": {},
   "outputs": [],
   "source": [
    "#skip this section if you have no openai api key\n",
    "import getpass\n",
    "import os\n",
    "from dotenv import load_dotenv\n",
    "\n",
    "load_dotenv(os.path.expanduser(\"~/Projekte/MOOC/OpenCampus/codespace/.env\"))\n",
    "\n",
    "if \"OPENAI_API_KEY\" not in os.environ:\n",
    "    os.environ[\"OPENAI_API_KEY\"] = getpass.getpass(\n",
    "        prompt=\"Enter your OpenAI API key (required if using OpenAI): \"\n",
    "    )"
   ]
  },
  {
   "cell_type": "markdown",
   "id": "dee07feb-7ee6-4a6f-8531-7f7770ed6671",
   "metadata": {},
   "source": [
    "Let's ask the model about if it knows about opencampus.sh"
   ]
  },
  {
   "cell_type": "code",
   "execution_count": 8,
   "id": "7100bf1a-c1bc-4928-8bba-8e71f580aac1",
   "metadata": {},
   "outputs": [
    {
     "name": "stdout",
     "output_type": "stream",
     "text": [
      "As of my last knowledge update in October 2023, \"opencampus.sh\" does not refer to a widely recognized or established concept, platform, or tool. It is possible that it could be a specific project, website, or script related to open-source education, campus management, or similar themes, but without more context, it's difficult to provide a precise answer.\n",
      "\n",
      "If \"opencampus.sh\" is a recent development or a niche project that emerged after my last update, I recommend checking the latest online resources, such as GitHub, educational technology forums, or the official website associated with it, if available. If you have more specific details or context about what \"opencampus.sh\" refers to, I would be happy to help further!\n"
     ]
    }
   ],
   "source": [
    "from llama_index.llms.openai import OpenAI\n",
    "\n",
    "response = OpenAI(model=\"gpt-4o-mini\").complete(\"What is opencampus.sh \")\n",
    "print(response)"
   ]
  },
  {
   "cell_type": "markdown",
   "id": "cf6c12ad-393a-4f24-802a-a2da23f9b900",
   "metadata": {},
   "source": [
    "Uhh that is kind of a bummer, it does not even know about us. Probably because opencampus.sh is only fewly mentioned on any website etc.\n",
    "\n",
    "Let's try out the new 4.1 model"
   ]
  },
  {
   "cell_type": "code",
   "execution_count": 10,
   "id": "76759e34-856d-4e8e-8a1e-2c9b7f65f91d",
   "metadata": {},
   "outputs": [],
   "source": [
    "from llama_index.core.llms import ChatMessage\n",
    "llm = OpenAI(model=\"gpt-4.1-mini\")\n",
    "messages = [\n",
    "    ChatMessage(role=\"system\", content=\"You are a helpful assistant.\"),\n",
    "    ChatMessage(role=\"user\", content=\"What is opencampus.sh\"),\n",
    "]\n",
    "chat_response = llm.chat(messages)"
   ]
  },
  {
   "cell_type": "code",
   "execution_count": 11,
   "id": "3281939d-6c07-46f0-bd01-b647e8759e78",
   "metadata": {},
   "outputs": [
    {
     "name": "stdout",
     "output_type": "stream",
     "text": [
      "assistant: OpenCampus.sh is a platform or service related to education, often providing tools, resources, or environments for online learning, collaboration, or campus management. However, without more specific context, it is difficult to provide a precise description.\n",
      "\n",
      "If you are referring to a particular website or service named \"opencampus.sh,\" it might be a domain hosting an educational platform, open-source project, or community initiative related to learning or campus activities.\n",
      "\n",
      "Could you please provide more details or specify the context in which you encountered \"opencampus.sh\"? This will help me give you a more accurate and detailed explanation.\n"
     ]
    }
   ],
   "source": [
    "print(chat_response)"
   ]
  },
  {
   "cell_type": "markdown",
   "id": "40b1b618-d33f-45fc-8f6e-70283488fbb0",
   "metadata": {},
   "source": [
    "Hmm seems to go a bit into hallucinations here"
   ]
  },
  {
   "cell_type": "markdown",
   "id": "681ec06c-f4df-4894-8c06-69527c03494c",
   "metadata": {},
   "source": [
    "## Olama"
   ]
  },
  {
   "cell_type": "code",
   "execution_count": 14,
   "id": "0033ab4b-9ff1-43d9-ad66-32651fd65c05",
   "metadata": {},
   "outputs": [
    {
     "name": "stdout",
     "output_type": "stream",
     "text": [
      "Requirement already satisfied: llama-index-llms-ollama in /Users/user001/anaconda3/lib/python3.11/site-packages (0.5.4)\n",
      "Requirement already satisfied: llama-index-core<0.13.0,>=0.12.4 in /Users/user001/anaconda3/lib/python3.11/site-packages (from llama-index-llms-ollama) (0.12.34.post1)\n",
      "Requirement already satisfied: ollama>=0.4.3 in /Users/user001/anaconda3/lib/python3.11/site-packages (from llama-index-llms-ollama) (0.4.8)\n",
      "Requirement already satisfied: aiohttp<4,>=3.8.6 in /Users/user001/anaconda3/lib/python3.11/site-packages (from llama-index-core<0.13.0,>=0.12.4->llama-index-llms-ollama) (3.11.18)\n",
      "Requirement already satisfied: banks<3,>=2.0.0 in /Users/user001/anaconda3/lib/python3.11/site-packages (from llama-index-core<0.13.0,>=0.12.4->llama-index-llms-ollama) (2.1.2)\n",
      "Requirement already satisfied: dataclasses-json in /Users/user001/anaconda3/lib/python3.11/site-packages (from llama-index-core<0.13.0,>=0.12.4->llama-index-llms-ollama) (0.6.7)\n",
      "Requirement already satisfied: deprecated>=1.2.9.3 in /Users/user001/anaconda3/lib/python3.11/site-packages (from llama-index-core<0.13.0,>=0.12.4->llama-index-llms-ollama) (1.2.18)\n",
      "Requirement already satisfied: dirtyjson<2,>=1.0.8 in /Users/user001/anaconda3/lib/python3.11/site-packages (from llama-index-core<0.13.0,>=0.12.4->llama-index-llms-ollama) (1.0.8)\n",
      "Requirement already satisfied: filetype<2,>=1.2.0 in /Users/user001/anaconda3/lib/python3.11/site-packages (from llama-index-core<0.13.0,>=0.12.4->llama-index-llms-ollama) (1.2.0)\n",
      "Requirement already satisfied: fsspec>=2023.5.0 in /Users/user001/anaconda3/lib/python3.11/site-packages (from llama-index-core<0.13.0,>=0.12.4->llama-index-llms-ollama) (2025.3.2)\n",
      "Requirement already satisfied: httpx in /Users/user001/anaconda3/lib/python3.11/site-packages (from llama-index-core<0.13.0,>=0.12.4->llama-index-llms-ollama) (0.27.0)\n",
      "Requirement already satisfied: nest-asyncio<2,>=1.5.8 in /Users/user001/anaconda3/lib/python3.11/site-packages (from llama-index-core<0.13.0,>=0.12.4->llama-index-llms-ollama) (1.6.0)\n",
      "Requirement already satisfied: networkx>=3.0 in /Users/user001/anaconda3/lib/python3.11/site-packages (from llama-index-core<0.13.0,>=0.12.4->llama-index-llms-ollama) (3.1)\n",
      "Requirement already satisfied: nltk>3.8.1 in /Users/user001/anaconda3/lib/python3.11/site-packages (from llama-index-core<0.13.0,>=0.12.4->llama-index-llms-ollama) (3.9.1)\n",
      "Requirement already satisfied: numpy in /Users/user001/anaconda3/lib/python3.11/site-packages (from llama-index-core<0.13.0,>=0.12.4->llama-index-llms-ollama) (2.2.5)\n",
      "Requirement already satisfied: pillow>=9.0.0 in /Users/user001/anaconda3/lib/python3.11/site-packages (from llama-index-core<0.13.0,>=0.12.4->llama-index-llms-ollama) (10.0.1)\n",
      "Requirement already satisfied: pydantic>=2.8.0 in /Users/user001/anaconda3/lib/python3.11/site-packages (from llama-index-core<0.13.0,>=0.12.4->llama-index-llms-ollama) (2.11.3)\n",
      "Requirement already satisfied: pyyaml>=6.0.1 in /Users/user001/anaconda3/lib/python3.11/site-packages (from llama-index-core<0.13.0,>=0.12.4->llama-index-llms-ollama) (6.0.2)\n",
      "Requirement already satisfied: requests>=2.31.0 in /Users/user001/anaconda3/lib/python3.11/site-packages (from llama-index-core<0.13.0,>=0.12.4->llama-index-llms-ollama) (2.31.0)\n",
      "Requirement already satisfied: sqlalchemy[asyncio]>=1.4.49 in /Users/user001/anaconda3/lib/python3.11/site-packages (from llama-index-core<0.13.0,>=0.12.4->llama-index-llms-ollama) (2.0.35)\n",
      "Requirement already satisfied: tenacity!=8.4.0,<10.0.0,>=8.2.0 in /Users/user001/anaconda3/lib/python3.11/site-packages (from llama-index-core<0.13.0,>=0.12.4->llama-index-llms-ollama) (8.2.2)\n",
      "Requirement already satisfied: tiktoken>=0.7.0 in /Users/user001/anaconda3/lib/python3.11/site-packages (from llama-index-core<0.13.0,>=0.12.4->llama-index-llms-ollama) (0.9.0)\n",
      "Requirement already satisfied: tqdm<5,>=4.66.1 in /Users/user001/anaconda3/lib/python3.11/site-packages (from llama-index-core<0.13.0,>=0.12.4->llama-index-llms-ollama) (4.67.1)\n",
      "Requirement already satisfied: typing-extensions>=4.5.0 in /Users/user001/anaconda3/lib/python3.11/site-packages (from llama-index-core<0.13.0,>=0.12.4->llama-index-llms-ollama) (4.13.2)\n",
      "Requirement already satisfied: typing-inspect>=0.8.0 in /Users/user001/anaconda3/lib/python3.11/site-packages (from llama-index-core<0.13.0,>=0.12.4->llama-index-llms-ollama) (0.9.0)\n",
      "Requirement already satisfied: wrapt in /Users/user001/anaconda3/lib/python3.11/site-packages (from llama-index-core<0.13.0,>=0.12.4->llama-index-llms-ollama) (1.14.1)\n",
      "Requirement already satisfied: aiohappyeyeballs>=2.3.0 in /Users/user001/anaconda3/lib/python3.11/site-packages (from aiohttp<4,>=3.8.6->llama-index-core<0.13.0,>=0.12.4->llama-index-llms-ollama) (2.6.1)\n",
      "Requirement already satisfied: aiosignal>=1.1.2 in /Users/user001/anaconda3/lib/python3.11/site-packages (from aiohttp<4,>=3.8.6->llama-index-core<0.13.0,>=0.12.4->llama-index-llms-ollama) (1.2.0)\n",
      "Requirement already satisfied: attrs>=17.3.0 in /Users/user001/anaconda3/lib/python3.11/site-packages (from aiohttp<4,>=3.8.6->llama-index-core<0.13.0,>=0.12.4->llama-index-llms-ollama) (22.1.0)\n",
      "Requirement already satisfied: frozenlist>=1.1.1 in /Users/user001/anaconda3/lib/python3.11/site-packages (from aiohttp<4,>=3.8.6->llama-index-core<0.13.0,>=0.12.4->llama-index-llms-ollama) (1.3.3)\n",
      "Requirement already satisfied: multidict<7.0,>=4.5 in /Users/user001/anaconda3/lib/python3.11/site-packages (from aiohttp<4,>=3.8.6->llama-index-core<0.13.0,>=0.12.4->llama-index-llms-ollama) (6.0.2)\n",
      "Requirement already satisfied: propcache>=0.2.0 in /Users/user001/anaconda3/lib/python3.11/site-packages (from aiohttp<4,>=3.8.6->llama-index-core<0.13.0,>=0.12.4->llama-index-llms-ollama) (0.3.1)\n",
      "Requirement already satisfied: yarl<2.0,>=1.17.0 in /Users/user001/anaconda3/lib/python3.11/site-packages (from aiohttp<4,>=3.8.6->llama-index-core<0.13.0,>=0.12.4->llama-index-llms-ollama) (1.20.0)\n",
      "Requirement already satisfied: griffe in /Users/user001/anaconda3/lib/python3.11/site-packages (from banks<3,>=2.0.0->llama-index-core<0.13.0,>=0.12.4->llama-index-llms-ollama) (1.7.3)\n",
      "Requirement already satisfied: jinja2 in /Users/user001/anaconda3/lib/python3.11/site-packages (from banks<3,>=2.0.0->llama-index-core<0.13.0,>=0.12.4->llama-index-llms-ollama) (3.1.2)\n",
      "Requirement already satisfied: platformdirs in /Users/user001/anaconda3/lib/python3.11/site-packages (from banks<3,>=2.0.0->llama-index-core<0.13.0,>=0.12.4->llama-index-llms-ollama) (4.3.7)\n",
      "Requirement already satisfied: anyio in /Users/user001/anaconda3/lib/python3.11/site-packages (from httpx->llama-index-core<0.13.0,>=0.12.4->llama-index-llms-ollama) (3.5.0)\n",
      "Requirement already satisfied: certifi in /Users/user001/anaconda3/lib/python3.11/site-packages (from httpx->llama-index-core<0.13.0,>=0.12.4->llama-index-llms-ollama) (2025.1.31)\n",
      "Requirement already satisfied: httpcore==1.* in /Users/user001/anaconda3/lib/python3.11/site-packages (from httpx->llama-index-core<0.13.0,>=0.12.4->llama-index-llms-ollama) (1.0.5)\n",
      "Requirement already satisfied: idna in /Users/user001/anaconda3/lib/python3.11/site-packages (from httpx->llama-index-core<0.13.0,>=0.12.4->llama-index-llms-ollama) (3.4)\n",
      "Requirement already satisfied: sniffio in /Users/user001/anaconda3/lib/python3.11/site-packages (from httpx->llama-index-core<0.13.0,>=0.12.4->llama-index-llms-ollama) (1.2.0)\n",
      "Requirement already satisfied: h11<0.15,>=0.13 in /Users/user001/anaconda3/lib/python3.11/site-packages (from httpcore==1.*->httpx->llama-index-core<0.13.0,>=0.12.4->llama-index-llms-ollama) (0.14.0)\n",
      "Requirement already satisfied: click in /Users/user001/anaconda3/lib/python3.11/site-packages (from nltk>3.8.1->llama-index-core<0.13.0,>=0.12.4->llama-index-llms-ollama) (8.1.8)\n",
      "Requirement already satisfied: joblib in /Users/user001/anaconda3/lib/python3.11/site-packages (from nltk>3.8.1->llama-index-core<0.13.0,>=0.12.4->llama-index-llms-ollama) (1.2.0)\n",
      "Requirement already satisfied: regex>=2021.8.3 in /Users/user001/anaconda3/lib/python3.11/site-packages (from nltk>3.8.1->llama-index-core<0.13.0,>=0.12.4->llama-index-llms-ollama) (2022.7.9)\n",
      "Requirement already satisfied: annotated-types>=0.6.0 in /Users/user001/anaconda3/lib/python3.11/site-packages (from pydantic>=2.8.0->llama-index-core<0.13.0,>=0.12.4->llama-index-llms-ollama) (0.7.0)\n",
      "Requirement already satisfied: pydantic-core==2.33.1 in /Users/user001/anaconda3/lib/python3.11/site-packages (from pydantic>=2.8.0->llama-index-core<0.13.0,>=0.12.4->llama-index-llms-ollama) (2.33.1)\n",
      "Requirement already satisfied: typing-inspection>=0.4.0 in /Users/user001/anaconda3/lib/python3.11/site-packages (from pydantic>=2.8.0->llama-index-core<0.13.0,>=0.12.4->llama-index-llms-ollama) (0.4.0)\n",
      "Requirement already satisfied: charset-normalizer<4,>=2 in /Users/user001/anaconda3/lib/python3.11/site-packages (from requests>=2.31.0->llama-index-core<0.13.0,>=0.12.4->llama-index-llms-ollama) (2.0.4)\n",
      "Requirement already satisfied: urllib3<3,>=1.21.1 in /Users/user001/anaconda3/lib/python3.11/site-packages (from requests>=2.31.0->llama-index-core<0.13.0,>=0.12.4->llama-index-llms-ollama) (1.26.16)\n",
      "Requirement already satisfied: greenlet!=0.4.17 in /Users/user001/anaconda3/lib/python3.11/site-packages (from sqlalchemy[asyncio]>=1.4.49->llama-index-core<0.13.0,>=0.12.4->llama-index-llms-ollama) (2.0.1)\n",
      "Requirement already satisfied: mypy-extensions>=0.3.0 in /Users/user001/anaconda3/lib/python3.11/site-packages (from typing-inspect>=0.8.0->llama-index-core<0.13.0,>=0.12.4->llama-index-llms-ollama) (1.0.0)\n",
      "Requirement already satisfied: marshmallow<4.0.0,>=3.18.0 in /Users/user001/anaconda3/lib/python3.11/site-packages (from dataclasses-json->llama-index-core<0.13.0,>=0.12.4->llama-index-llms-ollama) (3.22.0)\n",
      "Requirement already satisfied: packaging>=17.0 in /Users/user001/anaconda3/lib/python3.11/site-packages (from marshmallow<4.0.0,>=3.18.0->dataclasses-json->llama-index-core<0.13.0,>=0.12.4->llama-index-llms-ollama) (24.2)\n",
      "Requirement already satisfied: colorama>=0.4 in /Users/user001/anaconda3/lib/python3.11/site-packages (from griffe->banks<3,>=2.0.0->llama-index-core<0.13.0,>=0.12.4->llama-index-llms-ollama) (0.4.6)\n",
      "Requirement already satisfied: MarkupSafe>=2.0 in /Users/user001/anaconda3/lib/python3.11/site-packages (from jinja2->banks<3,>=2.0.0->llama-index-core<0.13.0,>=0.12.4->llama-index-llms-ollama) (2.1.1)\n",
      "Note: you may need to restart the kernel to use updated packages.\n"
     ]
    }
   ],
   "source": [
    "pip install llama-index-llms-ollama"
   ]
  },
  {
   "cell_type": "code",
   "execution_count": 15,
   "id": "6c2e6417-107c-449e-8cf1-9db4a981348f",
   "metadata": {},
   "outputs": [
    {
     "name": "stdout",
     "output_type": "stream",
     "text": [
      "assistant: Okay, let's break down what OpenCampus.sh is all about!\n",
      "\n",
      "**OpenCampus.sh is a fascinating and rapidly growing open-source project focused on creating a *dynamic, collaborative, and community-driven platform for educators to share and curate learning resources.****  Think of it as a digital library and marketplace specifically for educators.\n",
      "\n",
      "Here's a more detailed breakdown of what it is and why it's significant:\n",
      "\n",
      "**1. Core Concept: A Decentralized Learning Library**\n",
      "\n",
      "* **Decentralized:** Unlike traditional platforms (like Google Scholar or Pinterest) that are controlled by a few entities, OpenCampus.sh is built on a blockchain-like system. This means:\n",
      "    * **Ownership:**  Learners and educators can *own* their resources.\n",
      "    * **Transparency:**  The provenance (where a resource came from) is recorded on the blockchain.\n",
      "    * **Reduced Censorship:**  It’s harder to remove or censor content because it’s distributed.\n",
      "\n",
      "* **Community-Driven:**  It's a collaborative effort where educators, subject matter experts, and learners contribute to the platform.  It’s not just about *having* resources, it’s about *creating* and *sharing* them.\n",
      "\n",
      "**2. Key Features & Functionality:**\n",
      "\n",
      "* **Resource Sharing:**  Users can upload, share, and discover learning resources (text, videos, quizzes, presentations, etc.).\n",
      "* **Rating & Reviews:**  Learners can rate and review resources, helping to improve quality and relevance.\n",
      "* **Curated Collections:**  The platform allows for the creation of curated collections around specific topics, themes, or learning objectives.\n",
      "* **Blockchain-Based Verification:**  The blockchain helps ensure the authenticity and reliability of resources.  It also allows for mechanisms for verifying the source and context of a resource.\n",
      "* **Verification System:**  A system for verifying the source of a resource.\n",
      "* **Reputation System:**  Learners and educators can build reputations based on their contributions and ratings.\n",
      "* **Challenges & Gamification:**  OpenCampus.sh often incorporates challenges and gamification to encourage engagement and knowledge sharing.\n",
      "\n",
      "\n",
      "**3.  Why is it important?**\n",
      "\n",
      "* **Democratizing Education:** It aims to level the playing field by giving educators more control over their content and making it more accessible.\n",
      "* **Combating Plagiarism:** The blockchain-based verification helps address the problem of plagiarism.\n",
      "* **Supporting Educators:** It provides a platform for educators to showcase their work and build a community around their expertise.\n",
      "* **Innovation in Learning:** It encourages experimentation and the creation of new learning models.\n",
      "\n",
      "**4.  Where to Learn More:**\n",
      "\n",
      "* **Official Website:** [https://opencampus.sh/](https://opencampus.sh/) - This is the best place to get the most up-to-date information.\n",
      "\n",
      "**In short, OpenCampus.sh is a bold experiment in how we manage and share educational resources – leveraging blockchain technology to create a more trustworthy and collaborative learning ecosystem.**\n",
      "\n",
      "---\n",
      "\n",
      "**Do you have any specific aspects of OpenCampus.sh you'd like me to elaborate on? For example, are you interested in:**\n",
      "\n",
      "*   Its technical aspects?\n",
      "*   Its potential impact on education?\n",
      "*   How it compares to other platforms?\n"
     ]
    }
   ],
   "source": [
    "from llama_index.llms.ollama import Ollama\n",
    "from llama_index.core.llms import ChatMessage\n",
    "\n",
    "llm = Ollama(model=\"gemma3:1b\", request_timeout=60.0)\n",
    "\n",
    "messages = [\n",
    "    ChatMessage(role=\"system\", content=\"You are a helpful assistant.\"),\n",
    "    ChatMessage(role=\"user\", content=\"What is opencampus.sh\"),\n",
    "]\n",
    "\n",
    "chat_response = llm.chat(messages)\n",
    "print(chat_response)"
   ]
  },
  {
   "cell_type": "markdown",
   "id": "0149a62e-d2ca-4d70-82cc-586e7c1baafe",
   "metadata": {},
   "source": [
    "Oh dear.."
   ]
  },
  {
   "cell_type": "markdown",
   "id": "fb1a71c5-25ce-4d7a-8bc8-82a2c65bd465",
   "metadata": {},
   "source": [
    "## Conclusion\n",
    "\n",
    "We have libraries which wrap the llm call into functions and classes of their liking. We gain that we can easily switch between different model providers but loose at lot of flexibility."
   ]
  },
  {
   "cell_type": "markdown",
   "id": "007a9231-8ae6-4e3b-8098-1e3b24cac183",
   "metadata": {},
   "source": [
    "Made with GitHub Copilot\n",
    "# Adding RAG with Cosine Similarity to the Notebook"
   ]
  },
  {
   "cell_type": "code",
   "execution_count": 19,
   "id": "f60bf4ef-f98d-4f91-8cab-8a935c163fd1",
   "metadata": {},
   "outputs": [
    {
     "name": "stdout",
     "output_type": "stream",
     "text": [
      "Requirement already satisfied: llama-index in /Users/user001/anaconda3/lib/python3.11/site-packages (0.12.34)\n",
      "Requirement already satisfied: numpy in /Users/user001/anaconda3/lib/python3.11/site-packages (2.2.5)\n",
      "Requirement already satisfied: llama-index-agent-openai<0.5,>=0.4.0 in /Users/user001/anaconda3/lib/python3.11/site-packages (from llama-index) (0.4.7)\n",
      "Requirement already satisfied: llama-index-cli<0.5,>=0.4.1 in /Users/user001/anaconda3/lib/python3.11/site-packages (from llama-index) (0.4.1)\n",
      "Requirement already satisfied: llama-index-core<0.13,>=0.12.34 in /Users/user001/anaconda3/lib/python3.11/site-packages (from llama-index) (0.12.34.post1)\n",
      "Requirement already satisfied: llama-index-embeddings-openai<0.4,>=0.3.0 in /Users/user001/anaconda3/lib/python3.11/site-packages (from llama-index) (0.3.1)\n",
      "Requirement already satisfied: llama-index-indices-managed-llama-cloud>=0.4.0 in /Users/user001/anaconda3/lib/python3.11/site-packages (from llama-index) (0.6.11)\n",
      "Requirement already satisfied: llama-index-llms-openai<0.4,>=0.3.0 in /Users/user001/anaconda3/lib/python3.11/site-packages (from llama-index) (0.3.38)\n",
      "Requirement already satisfied: llama-index-multi-modal-llms-openai<0.5,>=0.4.0 in /Users/user001/anaconda3/lib/python3.11/site-packages (from llama-index) (0.4.3)\n",
      "Requirement already satisfied: llama-index-program-openai<0.4,>=0.3.0 in /Users/user001/anaconda3/lib/python3.11/site-packages (from llama-index) (0.3.1)\n",
      "Requirement already satisfied: llama-index-question-gen-openai<0.4,>=0.3.0 in /Users/user001/anaconda3/lib/python3.11/site-packages (from llama-index) (0.3.0)\n",
      "Requirement already satisfied: llama-index-readers-file<0.5,>=0.4.0 in /Users/user001/anaconda3/lib/python3.11/site-packages (from llama-index) (0.4.7)\n",
      "Requirement already satisfied: llama-index-readers-llama-parse>=0.4.0 in /Users/user001/anaconda3/lib/python3.11/site-packages (from llama-index) (0.4.0)\n",
      "Requirement already satisfied: nltk>3.8.1 in /Users/user001/anaconda3/lib/python3.11/site-packages (from llama-index) (3.9.1)\n",
      "Requirement already satisfied: openai>=1.14.0 in /Users/user001/anaconda3/lib/python3.11/site-packages (from llama-index-agent-openai<0.5,>=0.4.0->llama-index) (1.77.0)\n",
      "Requirement already satisfied: aiohttp<4,>=3.8.6 in /Users/user001/anaconda3/lib/python3.11/site-packages (from llama-index-core<0.13,>=0.12.34->llama-index) (3.11.18)\n",
      "Requirement already satisfied: banks<3,>=2.0.0 in /Users/user001/anaconda3/lib/python3.11/site-packages (from llama-index-core<0.13,>=0.12.34->llama-index) (2.1.2)\n",
      "Requirement already satisfied: dataclasses-json in /Users/user001/anaconda3/lib/python3.11/site-packages (from llama-index-core<0.13,>=0.12.34->llama-index) (0.6.7)\n",
      "Requirement already satisfied: deprecated>=1.2.9.3 in /Users/user001/anaconda3/lib/python3.11/site-packages (from llama-index-core<0.13,>=0.12.34->llama-index) (1.2.18)\n",
      "Requirement already satisfied: dirtyjson<2,>=1.0.8 in /Users/user001/anaconda3/lib/python3.11/site-packages (from llama-index-core<0.13,>=0.12.34->llama-index) (1.0.8)\n",
      "Requirement already satisfied: filetype<2,>=1.2.0 in /Users/user001/anaconda3/lib/python3.11/site-packages (from llama-index-core<0.13,>=0.12.34->llama-index) (1.2.0)\n",
      "Requirement already satisfied: fsspec>=2023.5.0 in /Users/user001/anaconda3/lib/python3.11/site-packages (from llama-index-core<0.13,>=0.12.34->llama-index) (2025.3.2)\n",
      "Requirement already satisfied: httpx in /Users/user001/anaconda3/lib/python3.11/site-packages (from llama-index-core<0.13,>=0.12.34->llama-index) (0.27.0)\n",
      "Requirement already satisfied: nest-asyncio<2,>=1.5.8 in /Users/user001/anaconda3/lib/python3.11/site-packages (from llama-index-core<0.13,>=0.12.34->llama-index) (1.6.0)\n",
      "Requirement already satisfied: networkx>=3.0 in /Users/user001/anaconda3/lib/python3.11/site-packages (from llama-index-core<0.13,>=0.12.34->llama-index) (3.1)\n",
      "Requirement already satisfied: pillow>=9.0.0 in /Users/user001/anaconda3/lib/python3.11/site-packages (from llama-index-core<0.13,>=0.12.34->llama-index) (10.0.1)\n",
      "Requirement already satisfied: pydantic>=2.8.0 in /Users/user001/anaconda3/lib/python3.11/site-packages (from llama-index-core<0.13,>=0.12.34->llama-index) (2.11.3)\n",
      "Requirement already satisfied: pyyaml>=6.0.1 in /Users/user001/anaconda3/lib/python3.11/site-packages (from llama-index-core<0.13,>=0.12.34->llama-index) (6.0.2)\n",
      "Requirement already satisfied: requests>=2.31.0 in /Users/user001/anaconda3/lib/python3.11/site-packages (from llama-index-core<0.13,>=0.12.34->llama-index) (2.31.0)\n",
      "Requirement already satisfied: sqlalchemy[asyncio]>=1.4.49 in /Users/user001/anaconda3/lib/python3.11/site-packages (from llama-index-core<0.13,>=0.12.34->llama-index) (2.0.35)\n",
      "Requirement already satisfied: tenacity!=8.4.0,<10.0.0,>=8.2.0 in /Users/user001/anaconda3/lib/python3.11/site-packages (from llama-index-core<0.13,>=0.12.34->llama-index) (8.2.2)\n",
      "Requirement already satisfied: tiktoken>=0.7.0 in /Users/user001/anaconda3/lib/python3.11/site-packages (from llama-index-core<0.13,>=0.12.34->llama-index) (0.9.0)\n",
      "Requirement already satisfied: tqdm<5,>=4.66.1 in /Users/user001/anaconda3/lib/python3.11/site-packages (from llama-index-core<0.13,>=0.12.34->llama-index) (4.67.1)\n",
      "Requirement already satisfied: typing-extensions>=4.5.0 in /Users/user001/anaconda3/lib/python3.11/site-packages (from llama-index-core<0.13,>=0.12.34->llama-index) (4.13.2)\n",
      "Requirement already satisfied: typing-inspect>=0.8.0 in /Users/user001/anaconda3/lib/python3.11/site-packages (from llama-index-core<0.13,>=0.12.34->llama-index) (0.9.0)\n",
      "Requirement already satisfied: wrapt in /Users/user001/anaconda3/lib/python3.11/site-packages (from llama-index-core<0.13,>=0.12.34->llama-index) (1.14.1)\n",
      "Requirement already satisfied: llama-cloud<0.2.0,>=0.1.13 in /Users/user001/anaconda3/lib/python3.11/site-packages (from llama-index-indices-managed-llama-cloud>=0.4.0->llama-index) (0.1.19)\n",
      "Requirement already satisfied: beautifulsoup4<5.0.0,>=4.12.3 in /Users/user001/anaconda3/lib/python3.11/site-packages (from llama-index-readers-file<0.5,>=0.4.0->llama-index) (4.13.4)\n",
      "Requirement already satisfied: pandas in /Users/user001/anaconda3/lib/python3.11/site-packages (from llama-index-readers-file<0.5,>=0.4.0->llama-index) (2.0.3)\n",
      "Requirement already satisfied: pypdf<6.0.0,>=5.1.0 in /Users/user001/anaconda3/lib/python3.11/site-packages (from llama-index-readers-file<0.5,>=0.4.0->llama-index) (5.4.0)\n",
      "Requirement already satisfied: striprtf<0.0.27,>=0.0.26 in /Users/user001/anaconda3/lib/python3.11/site-packages (from llama-index-readers-file<0.5,>=0.4.0->llama-index) (0.0.26)\n",
      "Requirement already satisfied: llama-parse>=0.5.0 in /Users/user001/anaconda3/lib/python3.11/site-packages (from llama-index-readers-llama-parse>=0.4.0->llama-index) (0.6.21)\n",
      "Requirement already satisfied: click in /Users/user001/anaconda3/lib/python3.11/site-packages (from nltk>3.8.1->llama-index) (8.1.8)\n",
      "Requirement already satisfied: joblib in /Users/user001/anaconda3/lib/python3.11/site-packages (from nltk>3.8.1->llama-index) (1.2.0)\n",
      "Requirement already satisfied: regex>=2021.8.3 in /Users/user001/anaconda3/lib/python3.11/site-packages (from nltk>3.8.1->llama-index) (2022.7.9)\n",
      "Requirement already satisfied: aiohappyeyeballs>=2.3.0 in /Users/user001/anaconda3/lib/python3.11/site-packages (from aiohttp<4,>=3.8.6->llama-index-core<0.13,>=0.12.34->llama-index) (2.6.1)\n",
      "Requirement already satisfied: aiosignal>=1.1.2 in /Users/user001/anaconda3/lib/python3.11/site-packages (from aiohttp<4,>=3.8.6->llama-index-core<0.13,>=0.12.34->llama-index) (1.2.0)\n",
      "Requirement already satisfied: attrs>=17.3.0 in /Users/user001/anaconda3/lib/python3.11/site-packages (from aiohttp<4,>=3.8.6->llama-index-core<0.13,>=0.12.34->llama-index) (22.1.0)\n",
      "Requirement already satisfied: frozenlist>=1.1.1 in /Users/user001/anaconda3/lib/python3.11/site-packages (from aiohttp<4,>=3.8.6->llama-index-core<0.13,>=0.12.34->llama-index) (1.3.3)\n",
      "Requirement already satisfied: multidict<7.0,>=4.5 in /Users/user001/anaconda3/lib/python3.11/site-packages (from aiohttp<4,>=3.8.6->llama-index-core<0.13,>=0.12.34->llama-index) (6.0.2)\n",
      "Requirement already satisfied: propcache>=0.2.0 in /Users/user001/anaconda3/lib/python3.11/site-packages (from aiohttp<4,>=3.8.6->llama-index-core<0.13,>=0.12.34->llama-index) (0.3.1)\n",
      "Requirement already satisfied: yarl<2.0,>=1.17.0 in /Users/user001/anaconda3/lib/python3.11/site-packages (from aiohttp<4,>=3.8.6->llama-index-core<0.13,>=0.12.34->llama-index) (1.20.0)\n",
      "Requirement already satisfied: griffe in /Users/user001/anaconda3/lib/python3.11/site-packages (from banks<3,>=2.0.0->llama-index-core<0.13,>=0.12.34->llama-index) (1.7.3)\n",
      "Requirement already satisfied: jinja2 in /Users/user001/anaconda3/lib/python3.11/site-packages (from banks<3,>=2.0.0->llama-index-core<0.13,>=0.12.34->llama-index) (3.1.2)\n",
      "Requirement already satisfied: platformdirs in /Users/user001/anaconda3/lib/python3.11/site-packages (from banks<3,>=2.0.0->llama-index-core<0.13,>=0.12.34->llama-index) (4.3.7)\n",
      "Requirement already satisfied: soupsieve>1.2 in /Users/user001/anaconda3/lib/python3.11/site-packages (from beautifulsoup4<5.0.0,>=4.12.3->llama-index-readers-file<0.5,>=0.4.0->llama-index) (2.4)\n",
      "Requirement already satisfied: certifi>=2024.7.4 in /Users/user001/anaconda3/lib/python3.11/site-packages (from llama-cloud<0.2.0,>=0.1.13->llama-index-indices-managed-llama-cloud>=0.4.0->llama-index) (2025.1.31)\n",
      "Requirement already satisfied: anyio in /Users/user001/anaconda3/lib/python3.11/site-packages (from httpx->llama-index-core<0.13,>=0.12.34->llama-index) (3.5.0)\n",
      "Requirement already satisfied: httpcore==1.* in /Users/user001/anaconda3/lib/python3.11/site-packages (from httpx->llama-index-core<0.13,>=0.12.34->llama-index) (1.0.5)\n",
      "Requirement already satisfied: idna in /Users/user001/anaconda3/lib/python3.11/site-packages (from httpx->llama-index-core<0.13,>=0.12.34->llama-index) (3.4)\n",
      "Requirement already satisfied: sniffio in /Users/user001/anaconda3/lib/python3.11/site-packages (from httpx->llama-index-core<0.13,>=0.12.34->llama-index) (1.2.0)\n",
      "Requirement already satisfied: h11<0.15,>=0.13 in /Users/user001/anaconda3/lib/python3.11/site-packages (from httpcore==1.*->httpx->llama-index-core<0.13,>=0.12.34->llama-index) (0.14.0)\n",
      "Requirement already satisfied: llama-cloud-services>=0.6.21 in /Users/user001/anaconda3/lib/python3.11/site-packages (from llama-parse>=0.5.0->llama-index-readers-llama-parse>=0.4.0->llama-index) (0.6.21)\n",
      "Requirement already satisfied: distro<2,>=1.7.0 in /Users/user001/anaconda3/lib/python3.11/site-packages (from openai>=1.14.0->llama-index-agent-openai<0.5,>=0.4.0->llama-index) (1.9.0)\n",
      "Requirement already satisfied: jiter<1,>=0.4.0 in /Users/user001/anaconda3/lib/python3.11/site-packages (from openai>=1.14.0->llama-index-agent-openai<0.5,>=0.4.0->llama-index) (0.9.0)\n",
      "Requirement already satisfied: annotated-types>=0.6.0 in /Users/user001/anaconda3/lib/python3.11/site-packages (from pydantic>=2.8.0->llama-index-core<0.13,>=0.12.34->llama-index) (0.7.0)\n",
      "Requirement already satisfied: pydantic-core==2.33.1 in /Users/user001/anaconda3/lib/python3.11/site-packages (from pydantic>=2.8.0->llama-index-core<0.13,>=0.12.34->llama-index) (2.33.1)\n",
      "Requirement already satisfied: typing-inspection>=0.4.0 in /Users/user001/anaconda3/lib/python3.11/site-packages (from pydantic>=2.8.0->llama-index-core<0.13,>=0.12.34->llama-index) (0.4.0)\n",
      "Requirement already satisfied: charset-normalizer<4,>=2 in /Users/user001/anaconda3/lib/python3.11/site-packages (from requests>=2.31.0->llama-index-core<0.13,>=0.12.34->llama-index) (2.0.4)\n",
      "Requirement already satisfied: urllib3<3,>=1.21.1 in /Users/user001/anaconda3/lib/python3.11/site-packages (from requests>=2.31.0->llama-index-core<0.13,>=0.12.34->llama-index) (1.26.16)\n",
      "Requirement already satisfied: greenlet!=0.4.17 in /Users/user001/anaconda3/lib/python3.11/site-packages (from sqlalchemy[asyncio]>=1.4.49->llama-index-core<0.13,>=0.12.34->llama-index) (2.0.1)\n",
      "Requirement already satisfied: mypy-extensions>=0.3.0 in /Users/user001/anaconda3/lib/python3.11/site-packages (from typing-inspect>=0.8.0->llama-index-core<0.13,>=0.12.34->llama-index) (1.0.0)\n",
      "Requirement already satisfied: marshmallow<4.0.0,>=3.18.0 in /Users/user001/anaconda3/lib/python3.11/site-packages (from dataclasses-json->llama-index-core<0.13,>=0.12.34->llama-index) (3.22.0)\n",
      "Requirement already satisfied: python-dateutil>=2.8.2 in /Users/user001/anaconda3/lib/python3.11/site-packages (from pandas->llama-index-readers-file<0.5,>=0.4.0->llama-index) (2.8.2)\n",
      "Requirement already satisfied: pytz>=2020.1 in /Users/user001/anaconda3/lib/python3.11/site-packages (from pandas->llama-index-readers-file<0.5,>=0.4.0->llama-index) (2023.3.post1)\n",
      "Requirement already satisfied: tzdata>=2022.1 in /Users/user001/anaconda3/lib/python3.11/site-packages (from pandas->llama-index-readers-file<0.5,>=0.4.0->llama-index) (2023.3)\n",
      "Requirement already satisfied: python-dotenv<2.0.0,>=1.0.1 in /Users/user001/anaconda3/lib/python3.11/site-packages (from llama-cloud-services>=0.6.21->llama-parse>=0.5.0->llama-index-readers-llama-parse>=0.4.0->llama-index) (1.1.0)\n",
      "Requirement already satisfied: packaging>=17.0 in /Users/user001/anaconda3/lib/python3.11/site-packages (from marshmallow<4.0.0,>=3.18.0->dataclasses-json->llama-index-core<0.13,>=0.12.34->llama-index) (24.2)\n",
      "Requirement already satisfied: six>=1.5 in /Users/user001/anaconda3/lib/python3.11/site-packages (from python-dateutil>=2.8.2->pandas->llama-index-readers-file<0.5,>=0.4.0->llama-index) (1.16.0)\n",
      "Requirement already satisfied: colorama>=0.4 in /Users/user001/anaconda3/lib/python3.11/site-packages (from griffe->banks<3,>=2.0.0->llama-index-core<0.13,>=0.12.34->llama-index) (0.4.6)\n",
      "Requirement already satisfied: MarkupSafe>=2.0 in /Users/user001/anaconda3/lib/python3.11/site-packages (from jinja2->banks<3,>=2.0.0->llama-index-core<0.13,>=0.12.34->llama-index) (2.1.1)\n"
     ]
    }
   ],
   "source": [
    "# Install additional required packages\n",
    "#!pip install llama-index-vector-stores-simple numpy\n",
    "!pip install llama-index numpy"
   ]
  },
  {
   "cell_type": "markdown",
   "id": "32a77b14-1c66-41be-8436-a47d6a9f0422",
   "metadata": {},
   "source": [
    "Then, let's add code to load documents and create an index:"
   ]
  },
  {
   "cell_type": "code",
   "execution_count": 21,
   "id": "aa85cf75-f641-499a-9b00-b47adb5452d2",
   "metadata": {},
   "outputs": [],
   "source": [
    "# Create a directory with some sample documents about OpenCampus.sh\n",
    "import os\n",
    "\n",
    "# Create a documents directory if it doesn't exist\n",
    "os.makedirs(\"documents\", exist_ok=True)\n",
    "\n",
    "# Create a sample document about OpenCampus.sh\n",
    "with open(\"documents/opencampus_info.txt\", \"w\") as f:\n",
    "    f.write(\"\"\"\n",
    "OpenCampus.sh is an innovative educational initiative based in Hamburg, Germany. \n",
    "It offers a variety of open and accessible learning opportunities in tech, \n",
    "digital skills, and modern professions. The platform provides MOOCs (Massive Open Online Courses), \n",
    "workshops, and project-based learning experiences that are often free or low-cost.\n",
    "\n",
    "Key characteristics of OpenCampus.sh:\n",
    "1. Community-focused education model\n",
    "2. Collaboration with industry partners and universities\n",
    "3. Practical, hands-on learning experiences\n",
    "4. Focus on modern digital skills and technologies\n",
    "5. Based in Hamburg but with online course offerings\n",
    "\n",
    "OpenCampus.sh aims to democratize access to education and bridge the gap between academic \n",
    "knowledge and practical industry requirements in the digital age.\n",
    "\"\"\")"
   ]
  },
  {
   "cell_type": "markdown",
   "id": "01ab6ae8-2c2e-4712-a21d-c9144efea782",
   "metadata": {},
   "source": [
    "Now let's implement document loading and indexing with cosine similarity:"
   ]
  },
  {
   "cell_type": "code",
   "execution_count": 23,
   "id": "65c24ac1-96de-4f55-9cbb-526b39bf9f88",
   "metadata": {},
   "outputs": [
    {
     "ename": "ValueError",
     "evalue": "numpy.dtype size changed, may indicate binary incompatibility. Expected 96 from C header, got 88 from PyObject",
     "output_type": "error",
     "traceback": [
      "\u001b[0;31m---------------------------------------------------------------------------\u001b[0m",
      "\u001b[0;31mValueError\u001b[0m                                Traceback (most recent call last)",
      "Cell \u001b[0;32mIn[23], line 10\u001b[0m\n\u001b[1;32m      7\u001b[0m \u001b[38;5;28;01mimport\u001b[39;00m \u001b[38;5;21;01mnumpy\u001b[39;00m \u001b[38;5;28;01mas\u001b[39;00m \u001b[38;5;21;01mnp\u001b[39;00m\n\u001b[1;32m      9\u001b[0m \u001b[38;5;66;03m# Load documents\u001b[39;00m\n\u001b[0;32m---> 10\u001b[0m documents \u001b[38;5;241m=\u001b[39m SimpleDirectoryReader(\u001b[38;5;124m\"\u001b[39m\u001b[38;5;124mdocuments\u001b[39m\u001b[38;5;124m\"\u001b[39m)\u001b[38;5;241m.\u001b[39mload_data()\n\u001b[1;32m     11\u001b[0m \u001b[38;5;28mprint\u001b[39m(\u001b[38;5;124mf\u001b[39m\u001b[38;5;124m\"\u001b[39m\u001b[38;5;124mLoaded \u001b[39m\u001b[38;5;132;01m{\u001b[39;00m\u001b[38;5;28mlen\u001b[39m(documents)\u001b[38;5;132;01m}\u001b[39;00m\u001b[38;5;124m documents\u001b[39m\u001b[38;5;124m\"\u001b[39m)\n\u001b[1;32m     13\u001b[0m \u001b[38;5;66;03m# Create embedding model\u001b[39;00m\n",
      "File \u001b[0;32m~/anaconda3/lib/python3.11/site-packages/llama_index/core/readers/file/base.py:732\u001b[0m, in \u001b[0;36mSimpleDirectoryReader.load_data\u001b[0;34m(self, show_progress, num_workers, fs)\u001b[0m\n\u001b[1;32m    727\u001b[0m         files_to_process \u001b[38;5;241m=\u001b[39m tqdm(\n\u001b[1;32m    728\u001b[0m             \u001b[38;5;28mself\u001b[39m\u001b[38;5;241m.\u001b[39minput_files, desc\u001b[38;5;241m=\u001b[39m\u001b[38;5;124m\"\u001b[39m\u001b[38;5;124mLoading files\u001b[39m\u001b[38;5;124m\"\u001b[39m, unit\u001b[38;5;241m=\u001b[39m\u001b[38;5;124m\"\u001b[39m\u001b[38;5;124mfile\u001b[39m\u001b[38;5;124m\"\u001b[39m\n\u001b[1;32m    729\u001b[0m         )\n\u001b[1;32m    730\u001b[0m     \u001b[38;5;28;01mfor\u001b[39;00m input_file \u001b[38;5;129;01min\u001b[39;00m files_to_process:\n\u001b[1;32m    731\u001b[0m         documents\u001b[38;5;241m.\u001b[39mextend(\n\u001b[0;32m--> 732\u001b[0m             SimpleDirectoryReader\u001b[38;5;241m.\u001b[39mload_file(\n\u001b[1;32m    733\u001b[0m                 input_file\u001b[38;5;241m=\u001b[39minput_file,\n\u001b[1;32m    734\u001b[0m                 file_metadata\u001b[38;5;241m=\u001b[39m\u001b[38;5;28mself\u001b[39m\u001b[38;5;241m.\u001b[39mfile_metadata,\n\u001b[1;32m    735\u001b[0m                 file_extractor\u001b[38;5;241m=\u001b[39m\u001b[38;5;28mself\u001b[39m\u001b[38;5;241m.\u001b[39mfile_extractor,\n\u001b[1;32m    736\u001b[0m                 filename_as_id\u001b[38;5;241m=\u001b[39m\u001b[38;5;28mself\u001b[39m\u001b[38;5;241m.\u001b[39mfilename_as_id,\n\u001b[1;32m    737\u001b[0m                 encoding\u001b[38;5;241m=\u001b[39m\u001b[38;5;28mself\u001b[39m\u001b[38;5;241m.\u001b[39mencoding,\n\u001b[1;32m    738\u001b[0m                 errors\u001b[38;5;241m=\u001b[39m\u001b[38;5;28mself\u001b[39m\u001b[38;5;241m.\u001b[39merrors,\n\u001b[1;32m    739\u001b[0m                 raise_on_error\u001b[38;5;241m=\u001b[39m\u001b[38;5;28mself\u001b[39m\u001b[38;5;241m.\u001b[39mraise_on_error,\n\u001b[1;32m    740\u001b[0m                 fs\u001b[38;5;241m=\u001b[39mfs,\n\u001b[1;32m    741\u001b[0m             )\n\u001b[1;32m    742\u001b[0m         )\n\u001b[1;32m    744\u001b[0m \u001b[38;5;28;01mreturn\u001b[39;00m \u001b[38;5;28mself\u001b[39m\u001b[38;5;241m.\u001b[39m_exclude_metadata(documents)\n",
      "File \u001b[0;32m~/anaconda3/lib/python3.11/site-packages/llama_index/core/readers/file/base.py:550\u001b[0m, in \u001b[0;36mSimpleDirectoryReader.load_file\u001b[0;34m(input_file, file_metadata, file_extractor, filename_as_id, encoding, errors, raise_on_error, fs)\u001b[0m\n\u001b[1;32m    517\u001b[0m \u001b[38;5;250m\u001b[39m\u001b[38;5;124;03m\"\"\"\u001b[39;00m\n\u001b[1;32m    518\u001b[0m \u001b[38;5;124;03mStatic method for loading file.\u001b[39;00m\n\u001b[1;32m    519\u001b[0m \n\u001b[0;32m   (...)\u001b[0m\n\u001b[1;32m    547\u001b[0m \u001b[38;5;124;03m    List[Document]: loaded documents\u001b[39;00m\n\u001b[1;32m    548\u001b[0m \u001b[38;5;124;03m\"\"\"\u001b[39;00m\n\u001b[1;32m    549\u001b[0m \u001b[38;5;66;03m# TODO: make this less redundant\u001b[39;00m\n\u001b[0;32m--> 550\u001b[0m default_file_reader_cls \u001b[38;5;241m=\u001b[39m SimpleDirectoryReader\u001b[38;5;241m.\u001b[39msupported_suffix_fn()\n\u001b[1;32m    551\u001b[0m default_file_reader_suffix \u001b[38;5;241m=\u001b[39m \u001b[38;5;28mlist\u001b[39m(default_file_reader_cls\u001b[38;5;241m.\u001b[39mkeys())\n\u001b[1;32m    552\u001b[0m metadata: \u001b[38;5;28mdict\u001b[39m \u001b[38;5;241m|\u001b[39m \u001b[38;5;28;01mNone\u001b[39;00m \u001b[38;5;241m=\u001b[39m \u001b[38;5;28;01mNone\u001b[39;00m\n",
      "File \u001b[0;32m~/anaconda3/lib/python3.11/site-packages/llama_index/core/readers/file/base.py:68\u001b[0m, in \u001b[0;36m_try_loading_included_file_formats\u001b[0;34m()\u001b[0m\n\u001b[1;32m     64\u001b[0m \u001b[38;5;28;01mdef\u001b[39;00m \u001b[38;5;21m_try_loading_included_file_formats\u001b[39m() \u001b[38;5;241m-\u001b[39m\u001b[38;5;241m>\u001b[39m (\n\u001b[1;32m     65\u001b[0m     \u001b[38;5;28mdict\u001b[39m[\u001b[38;5;28mstr\u001b[39m, Type[BaseReader]]\n\u001b[1;32m     66\u001b[0m ):  \u001b[38;5;66;03m# pragma: no cover\u001b[39;00m\n\u001b[1;32m     67\u001b[0m     \u001b[38;5;28;01mtry\u001b[39;00m:\n\u001b[0;32m---> 68\u001b[0m         \u001b[38;5;28;01mfrom\u001b[39;00m \u001b[38;5;21;01mllama_index\u001b[39;00m\u001b[38;5;21;01m.\u001b[39;00m\u001b[38;5;21;01mreaders\u001b[39;00m\u001b[38;5;21;01m.\u001b[39;00m\u001b[38;5;21;01mfile\u001b[39;00m \u001b[38;5;28;01mimport\u001b[39;00m (\n\u001b[1;32m     69\u001b[0m             DocxReader,\n\u001b[1;32m     70\u001b[0m             EpubReader,\n\u001b[1;32m     71\u001b[0m             HWPReader,\n\u001b[1;32m     72\u001b[0m             ImageReader,\n\u001b[1;32m     73\u001b[0m             IPYNBReader,\n\u001b[1;32m     74\u001b[0m             MboxReader,\n\u001b[1;32m     75\u001b[0m             PandasCSVReader,\n\u001b[1;32m     76\u001b[0m             PandasExcelReader,\n\u001b[1;32m     77\u001b[0m             PDFReader,\n\u001b[1;32m     78\u001b[0m             PptxReader,\n\u001b[1;32m     79\u001b[0m             VideoAudioReader,\n\u001b[1;32m     80\u001b[0m         )  \u001b[38;5;66;03m# pants: no-infer-dep\u001b[39;00m\n\u001b[1;32m     81\u001b[0m     \u001b[38;5;28;01mexcept\u001b[39;00m \u001b[38;5;167;01mImportError\u001b[39;00m:\n\u001b[1;32m     82\u001b[0m         logger\u001b[38;5;241m.\u001b[39mwarning(\n\u001b[1;32m     83\u001b[0m             \u001b[38;5;124m\"\u001b[39m\u001b[38;5;124m`llama-index-readers-file` package not found, some file readers will not be available \u001b[39m\u001b[38;5;124m\"\u001b[39m\n\u001b[1;32m     84\u001b[0m             \u001b[38;5;124m\"\u001b[39m\u001b[38;5;124mif not provided by the `file_extractor` parameter.\u001b[39m\u001b[38;5;124m\"\u001b[39m\n\u001b[1;32m     85\u001b[0m         )\n",
      "File \u001b[0;32m~/anaconda3/lib/python3.11/site-packages/llama_index/readers/file/__init__.py:16\u001b[0m\n\u001b[1;32m     14\u001b[0m \u001b[38;5;28;01mfrom\u001b[39;00m \u001b[38;5;21;01mllama_index\u001b[39;00m\u001b[38;5;21;01m.\u001b[39;00m\u001b[38;5;21;01mreaders\u001b[39;00m\u001b[38;5;21;01m.\u001b[39;00m\u001b[38;5;21;01mfile\u001b[39;00m\u001b[38;5;21;01m.\u001b[39;00m\u001b[38;5;21;01mrtf\u001b[39;00m \u001b[38;5;28;01mimport\u001b[39;00m RTFReader\n\u001b[1;32m     15\u001b[0m \u001b[38;5;28;01mfrom\u001b[39;00m \u001b[38;5;21;01mllama_index\u001b[39;00m\u001b[38;5;21;01m.\u001b[39;00m\u001b[38;5;21;01mreaders\u001b[39;00m\u001b[38;5;21;01m.\u001b[39;00m\u001b[38;5;21;01mfile\u001b[39;00m\u001b[38;5;21;01m.\u001b[39;00m\u001b[38;5;21;01mslides\u001b[39;00m \u001b[38;5;28;01mimport\u001b[39;00m PptxReader\n\u001b[0;32m---> 16\u001b[0m \u001b[38;5;28;01mfrom\u001b[39;00m \u001b[38;5;21;01mllama_index\u001b[39;00m\u001b[38;5;21;01m.\u001b[39;00m\u001b[38;5;21;01mreaders\u001b[39;00m\u001b[38;5;21;01m.\u001b[39;00m\u001b[38;5;21;01mfile\u001b[39;00m\u001b[38;5;21;01m.\u001b[39;00m\u001b[38;5;21;01mtabular\u001b[39;00m \u001b[38;5;28;01mimport\u001b[39;00m (\n\u001b[1;32m     17\u001b[0m     CSVReader,\n\u001b[1;32m     18\u001b[0m     PandasCSVReader,\n\u001b[1;32m     19\u001b[0m     PandasExcelReader,\n\u001b[1;32m     20\u001b[0m )\n\u001b[1;32m     21\u001b[0m \u001b[38;5;28;01mfrom\u001b[39;00m \u001b[38;5;21;01mllama_index\u001b[39;00m\u001b[38;5;21;01m.\u001b[39;00m\u001b[38;5;21;01mreaders\u001b[39;00m\u001b[38;5;21;01m.\u001b[39;00m\u001b[38;5;21;01mfile\u001b[39;00m\u001b[38;5;21;01m.\u001b[39;00m\u001b[38;5;21;01munstructured\u001b[39;00m \u001b[38;5;28;01mimport\u001b[39;00m UnstructuredReader\n\u001b[1;32m     22\u001b[0m \u001b[38;5;28;01mfrom\u001b[39;00m \u001b[38;5;21;01mllama_index\u001b[39;00m\u001b[38;5;21;01m.\u001b[39;00m\u001b[38;5;21;01mreaders\u001b[39;00m\u001b[38;5;21;01m.\u001b[39;00m\u001b[38;5;21;01mfile\u001b[39;00m\u001b[38;5;21;01m.\u001b[39;00m\u001b[38;5;21;01mvideo_audio\u001b[39;00m \u001b[38;5;28;01mimport\u001b[39;00m VideoAudioReader\n",
      "File \u001b[0;32m~/anaconda3/lib/python3.11/site-packages/llama_index/readers/file/tabular/__init__.py:1\u001b[0m\n\u001b[0;32m----> 1\u001b[0m \u001b[38;5;28;01mfrom\u001b[39;00m \u001b[38;5;21;01mllama_index\u001b[39;00m\u001b[38;5;21;01m.\u001b[39;00m\u001b[38;5;21;01mreaders\u001b[39;00m\u001b[38;5;21;01m.\u001b[39;00m\u001b[38;5;21;01mfile\u001b[39;00m\u001b[38;5;21;01m.\u001b[39;00m\u001b[38;5;21;01mtabular\u001b[39;00m\u001b[38;5;21;01m.\u001b[39;00m\u001b[38;5;21;01mbase\u001b[39;00m \u001b[38;5;28;01mimport\u001b[39;00m (\n\u001b[1;32m      2\u001b[0m     CSVReader,\n\u001b[1;32m      3\u001b[0m     PandasCSVReader,\n\u001b[1;32m      4\u001b[0m     PandasExcelReader,\n\u001b[1;32m      5\u001b[0m )\n\u001b[1;32m      7\u001b[0m __all__ \u001b[38;5;241m=\u001b[39m [\u001b[38;5;124m\"\u001b[39m\u001b[38;5;124mCSVReader\u001b[39m\u001b[38;5;124m\"\u001b[39m, \u001b[38;5;124m\"\u001b[39m\u001b[38;5;124mPandasCSVReader\u001b[39m\u001b[38;5;124m\"\u001b[39m, \u001b[38;5;124m\"\u001b[39m\u001b[38;5;124mPandasExcelReader\u001b[39m\u001b[38;5;124m\"\u001b[39m]\n",
      "File \u001b[0;32m~/anaconda3/lib/python3.11/site-packages/llama_index/readers/file/tabular/base.py:12\u001b[0m\n\u001b[1;32m      9\u001b[0m \u001b[38;5;28;01mfrom\u001b[39;00m \u001b[38;5;21;01mfsspec\u001b[39;00m \u001b[38;5;28;01mimport\u001b[39;00m AbstractFileSystem\n\u001b[1;32m     10\u001b[0m \u001b[38;5;28;01mimport\u001b[39;00m \u001b[38;5;21;01mimportlib\u001b[39;00m\n\u001b[0;32m---> 12\u001b[0m \u001b[38;5;28;01mimport\u001b[39;00m \u001b[38;5;21;01mpandas\u001b[39;00m \u001b[38;5;28;01mas\u001b[39;00m \u001b[38;5;21;01mpd\u001b[39;00m\n\u001b[1;32m     13\u001b[0m \u001b[38;5;28;01mfrom\u001b[39;00m \u001b[38;5;21;01mllama_index\u001b[39;00m\u001b[38;5;21;01m.\u001b[39;00m\u001b[38;5;21;01mcore\u001b[39;00m\u001b[38;5;21;01m.\u001b[39;00m\u001b[38;5;21;01mreaders\u001b[39;00m\u001b[38;5;21;01m.\u001b[39;00m\u001b[38;5;21;01mbase\u001b[39;00m \u001b[38;5;28;01mimport\u001b[39;00m BaseReader\n\u001b[1;32m     14\u001b[0m \u001b[38;5;28;01mfrom\u001b[39;00m \u001b[38;5;21;01mllama_index\u001b[39;00m\u001b[38;5;21;01m.\u001b[39;00m\u001b[38;5;21;01mcore\u001b[39;00m\u001b[38;5;21;01m.\u001b[39;00m\u001b[38;5;21;01mschema\u001b[39;00m \u001b[38;5;28;01mimport\u001b[39;00m Document\n",
      "File \u001b[0;32m~/anaconda3/lib/python3.11/site-packages/pandas/__init__.py:22\u001b[0m\n\u001b[1;32m     19\u001b[0m \u001b[38;5;28;01mdel\u001b[39;00m _hard_dependencies, _dependency, _missing_dependencies\n\u001b[1;32m     21\u001b[0m \u001b[38;5;66;03m# numpy compat\u001b[39;00m\n\u001b[0;32m---> 22\u001b[0m \u001b[38;5;28;01mfrom\u001b[39;00m \u001b[38;5;21;01mpandas\u001b[39;00m\u001b[38;5;21;01m.\u001b[39;00m\u001b[38;5;21;01mcompat\u001b[39;00m \u001b[38;5;28;01mimport\u001b[39;00m is_numpy_dev \u001b[38;5;28;01mas\u001b[39;00m _is_numpy_dev  \u001b[38;5;66;03m# pyright: ignore # noqa:F401\u001b[39;00m\n\u001b[1;32m     24\u001b[0m \u001b[38;5;28;01mtry\u001b[39;00m:\n\u001b[1;32m     25\u001b[0m     \u001b[38;5;28;01mfrom\u001b[39;00m \u001b[38;5;21;01mpandas\u001b[39;00m\u001b[38;5;21;01m.\u001b[39;00m\u001b[38;5;21;01m_libs\u001b[39;00m \u001b[38;5;28;01mimport\u001b[39;00m hashtable \u001b[38;5;28;01mas\u001b[39;00m _hashtable, lib \u001b[38;5;28;01mas\u001b[39;00m _lib, tslib \u001b[38;5;28;01mas\u001b[39;00m _tslib\n",
      "File \u001b[0;32m~/anaconda3/lib/python3.11/site-packages/pandas/compat/__init__.py:25\u001b[0m\n\u001b[1;32m     17\u001b[0m \u001b[38;5;28;01mfrom\u001b[39;00m \u001b[38;5;21;01mpandas\u001b[39;00m\u001b[38;5;21;01m.\u001b[39;00m\u001b[38;5;21;01mcompat\u001b[39;00m\u001b[38;5;21;01m.\u001b[39;00m\u001b[38;5;21;01m_constants\u001b[39;00m \u001b[38;5;28;01mimport\u001b[39;00m (\n\u001b[1;32m     18\u001b[0m     IS64,\n\u001b[1;32m     19\u001b[0m     PY39,\n\u001b[0;32m   (...)\u001b[0m\n\u001b[1;32m     22\u001b[0m     PYPY,\n\u001b[1;32m     23\u001b[0m )\n\u001b[1;32m     24\u001b[0m \u001b[38;5;28;01mimport\u001b[39;00m \u001b[38;5;21;01mpandas\u001b[39;00m\u001b[38;5;21;01m.\u001b[39;00m\u001b[38;5;21;01mcompat\u001b[39;00m\u001b[38;5;21;01m.\u001b[39;00m\u001b[38;5;21;01mcompressors\u001b[39;00m\n\u001b[0;32m---> 25\u001b[0m \u001b[38;5;28;01mfrom\u001b[39;00m \u001b[38;5;21;01mpandas\u001b[39;00m\u001b[38;5;21;01m.\u001b[39;00m\u001b[38;5;21;01mcompat\u001b[39;00m\u001b[38;5;21;01m.\u001b[39;00m\u001b[38;5;21;01mnumpy\u001b[39;00m \u001b[38;5;28;01mimport\u001b[39;00m (\n\u001b[1;32m     26\u001b[0m     is_numpy_dev,\n\u001b[1;32m     27\u001b[0m     np_version_under1p21,\n\u001b[1;32m     28\u001b[0m )\n\u001b[1;32m     29\u001b[0m \u001b[38;5;28;01mfrom\u001b[39;00m \u001b[38;5;21;01mpandas\u001b[39;00m\u001b[38;5;21;01m.\u001b[39;00m\u001b[38;5;21;01mcompat\u001b[39;00m\u001b[38;5;21;01m.\u001b[39;00m\u001b[38;5;21;01mpyarrow\u001b[39;00m \u001b[38;5;28;01mimport\u001b[39;00m (\n\u001b[1;32m     30\u001b[0m     pa_version_under7p0,\n\u001b[1;32m     31\u001b[0m     pa_version_under8p0,\n\u001b[1;32m     32\u001b[0m     pa_version_under9p0,\n\u001b[1;32m     33\u001b[0m     pa_version_under11p0,\n\u001b[1;32m     34\u001b[0m )\n\u001b[1;32m     37\u001b[0m \u001b[38;5;28;01mdef\u001b[39;00m \u001b[38;5;21mset_function_name\u001b[39m(f: F, name: \u001b[38;5;28mstr\u001b[39m, \u001b[38;5;28mcls\u001b[39m) \u001b[38;5;241m-\u001b[39m\u001b[38;5;241m>\u001b[39m F:\n",
      "File \u001b[0;32m~/anaconda3/lib/python3.11/site-packages/pandas/compat/numpy/__init__.py:4\u001b[0m\n\u001b[1;32m      1\u001b[0m \u001b[38;5;124;03m\"\"\" support numpy compatibility across versions \"\"\"\u001b[39;00m\n\u001b[1;32m      2\u001b[0m \u001b[38;5;28;01mimport\u001b[39;00m \u001b[38;5;21;01mnumpy\u001b[39;00m \u001b[38;5;28;01mas\u001b[39;00m \u001b[38;5;21;01mnp\u001b[39;00m\n\u001b[0;32m----> 4\u001b[0m \u001b[38;5;28;01mfrom\u001b[39;00m \u001b[38;5;21;01mpandas\u001b[39;00m\u001b[38;5;21;01m.\u001b[39;00m\u001b[38;5;21;01mutil\u001b[39;00m\u001b[38;5;21;01m.\u001b[39;00m\u001b[38;5;21;01mversion\u001b[39;00m \u001b[38;5;28;01mimport\u001b[39;00m Version\n\u001b[1;32m      6\u001b[0m \u001b[38;5;66;03m# numpy versioning\u001b[39;00m\n\u001b[1;32m      7\u001b[0m _np_version \u001b[38;5;241m=\u001b[39m np\u001b[38;5;241m.\u001b[39m__version__\n",
      "File \u001b[0;32m~/anaconda3/lib/python3.11/site-packages/pandas/util/__init__.py:2\u001b[0m\n\u001b[1;32m      1\u001b[0m \u001b[38;5;66;03m# pyright: reportUnusedImport = false\u001b[39;00m\n\u001b[0;32m----> 2\u001b[0m \u001b[38;5;28;01mfrom\u001b[39;00m \u001b[38;5;21;01mpandas\u001b[39;00m\u001b[38;5;21;01m.\u001b[39;00m\u001b[38;5;21;01mutil\u001b[39;00m\u001b[38;5;21;01m.\u001b[39;00m\u001b[38;5;21;01m_decorators\u001b[39;00m \u001b[38;5;28;01mimport\u001b[39;00m (  \u001b[38;5;66;03m# noqa:F401\u001b[39;00m\n\u001b[1;32m      3\u001b[0m     Appender,\n\u001b[1;32m      4\u001b[0m     Substitution,\n\u001b[1;32m      5\u001b[0m     cache_readonly,\n\u001b[1;32m      6\u001b[0m )\n\u001b[1;32m      8\u001b[0m \u001b[38;5;28;01mfrom\u001b[39;00m \u001b[38;5;21;01mpandas\u001b[39;00m\u001b[38;5;21;01m.\u001b[39;00m\u001b[38;5;21;01mcore\u001b[39;00m\u001b[38;5;21;01m.\u001b[39;00m\u001b[38;5;21;01mutil\u001b[39;00m\u001b[38;5;21;01m.\u001b[39;00m\u001b[38;5;21;01mhashing\u001b[39;00m \u001b[38;5;28;01mimport\u001b[39;00m (  \u001b[38;5;66;03m# noqa:F401\u001b[39;00m\n\u001b[1;32m      9\u001b[0m     hash_array,\n\u001b[1;32m     10\u001b[0m     hash_pandas_object,\n\u001b[1;32m     11\u001b[0m )\n",
      "File \u001b[0;32m~/anaconda3/lib/python3.11/site-packages/pandas/util/_decorators.py:14\u001b[0m\n\u001b[1;32m      6\u001b[0m \u001b[38;5;28;01mfrom\u001b[39;00m \u001b[38;5;21;01mtyping\u001b[39;00m \u001b[38;5;28;01mimport\u001b[39;00m (\n\u001b[1;32m      7\u001b[0m     Any,\n\u001b[1;32m      8\u001b[0m     Callable,\n\u001b[1;32m      9\u001b[0m     Mapping,\n\u001b[1;32m     10\u001b[0m     cast,\n\u001b[1;32m     11\u001b[0m )\n\u001b[1;32m     12\u001b[0m \u001b[38;5;28;01mimport\u001b[39;00m \u001b[38;5;21;01mwarnings\u001b[39;00m\n\u001b[0;32m---> 14\u001b[0m \u001b[38;5;28;01mfrom\u001b[39;00m \u001b[38;5;21;01mpandas\u001b[39;00m\u001b[38;5;21;01m.\u001b[39;00m\u001b[38;5;21;01m_libs\u001b[39;00m\u001b[38;5;21;01m.\u001b[39;00m\u001b[38;5;21;01mproperties\u001b[39;00m \u001b[38;5;28;01mimport\u001b[39;00m cache_readonly\n\u001b[1;32m     15\u001b[0m \u001b[38;5;28;01mfrom\u001b[39;00m \u001b[38;5;21;01mpandas\u001b[39;00m\u001b[38;5;21;01m.\u001b[39;00m\u001b[38;5;21;01m_typing\u001b[39;00m \u001b[38;5;28;01mimport\u001b[39;00m (\n\u001b[1;32m     16\u001b[0m     F,\n\u001b[1;32m     17\u001b[0m     T,\n\u001b[1;32m     18\u001b[0m )\n\u001b[1;32m     19\u001b[0m \u001b[38;5;28;01mfrom\u001b[39;00m \u001b[38;5;21;01mpandas\u001b[39;00m\u001b[38;5;21;01m.\u001b[39;00m\u001b[38;5;21;01mutil\u001b[39;00m\u001b[38;5;21;01m.\u001b[39;00m\u001b[38;5;21;01m_exceptions\u001b[39;00m \u001b[38;5;28;01mimport\u001b[39;00m find_stack_level\n",
      "File \u001b[0;32m~/anaconda3/lib/python3.11/site-packages/pandas/_libs/__init__.py:13\u001b[0m\n\u001b[1;32m      1\u001b[0m __all__ \u001b[38;5;241m=\u001b[39m [\n\u001b[1;32m      2\u001b[0m     \u001b[38;5;124m\"\u001b[39m\u001b[38;5;124mNaT\u001b[39m\u001b[38;5;124m\"\u001b[39m,\n\u001b[1;32m      3\u001b[0m     \u001b[38;5;124m\"\u001b[39m\u001b[38;5;124mNaTType\u001b[39m\u001b[38;5;124m\"\u001b[39m,\n\u001b[0;32m   (...)\u001b[0m\n\u001b[1;32m      9\u001b[0m     \u001b[38;5;124m\"\u001b[39m\u001b[38;5;124mInterval\u001b[39m\u001b[38;5;124m\"\u001b[39m,\n\u001b[1;32m     10\u001b[0m ]\n\u001b[0;32m---> 13\u001b[0m \u001b[38;5;28;01mfrom\u001b[39;00m \u001b[38;5;21;01mpandas\u001b[39;00m\u001b[38;5;21;01m.\u001b[39;00m\u001b[38;5;21;01m_libs\u001b[39;00m\u001b[38;5;21;01m.\u001b[39;00m\u001b[38;5;21;01minterval\u001b[39;00m \u001b[38;5;28;01mimport\u001b[39;00m Interval\n\u001b[1;32m     14\u001b[0m \u001b[38;5;28;01mfrom\u001b[39;00m \u001b[38;5;21;01mpandas\u001b[39;00m\u001b[38;5;21;01m.\u001b[39;00m\u001b[38;5;21;01m_libs\u001b[39;00m\u001b[38;5;21;01m.\u001b[39;00m\u001b[38;5;21;01mtslibs\u001b[39;00m \u001b[38;5;28;01mimport\u001b[39;00m (\n\u001b[1;32m     15\u001b[0m     NaT,\n\u001b[1;32m     16\u001b[0m     NaTType,\n\u001b[0;32m   (...)\u001b[0m\n\u001b[1;32m     21\u001b[0m     iNaT,\n\u001b[1;32m     22\u001b[0m )\n",
      "File \u001b[0;32m~/anaconda3/lib/python3.11/site-packages/pandas/_libs/interval.pyx:1\u001b[0m, in \u001b[0;36minit pandas._libs.interval\u001b[0;34m()\u001b[0m\n",
      "\u001b[0;31mValueError\u001b[0m: numpy.dtype size changed, may indicate binary incompatibility. Expected 96 from C header, got 88 from PyObject"
     ]
    }
   ],
   "source": [
    "from llama_index.core import VectorStoreIndex, SimpleDirectoryReader\n",
    "# from llama_index.vector_stores.simple import SimpleVectorStore\n",
    "from llama_index.core.vector_stores.simple import SimpleVectorStore\n",
    "from llama_index.core.vector_stores import MetadataFilters\n",
    "from llama_index.core.vector_stores import FilterOperator, ExactMatchFilter\n",
    "from llama_index.embeddings.openai import OpenAIEmbedding\n",
    "import numpy as np\n",
    "\n",
    "# Load documents\n",
    "documents = SimpleDirectoryReader(\"documents\").load_data()\n",
    "print(f\"Loaded {len(documents)} documents\")\n",
    "\n",
    "# Create embedding model\n",
    "embed_model = OpenAIEmbedding(model=\"text-embedding-3-small\")\n",
    "\n",
    "# Create a vector store with cosine similarity as the distance function\n",
    "vector_store = SimpleVectorStore(similarity_top_k=2, vector_store_type=\"dict\", distance_fn=\"cosine\")\n",
    "\n",
    "# Create and populate the index\n",
    "index = VectorStoreIndex.from_documents(\n",
    "    documents,\n",
    "    embed_model=embed_model,\n",
    "    vector_store=vector_store,\n",
    "    show_progress=True\n",
    ")\n",
    "\n",
    "# Save the index\n",
    "index.storage_context.persist(\"index_cosine\")"
   ]
  },
  {
   "cell_type": "markdown",
   "id": "3d065332-471c-424a-8e90-6e6922923fad",
   "metadata": {},
   "source": [
    "Now let's add a function to perform RAG with cosine similarity:"
   ]
  },
  {
   "cell_type": "code",
   "execution_count": null,
   "id": "4bc4ddba-0508-4034-80c7-9bb1041c13b4",
   "metadata": {},
   "outputs": [],
   "source": [
    "from llama_index.core.query_engine import RetrieverQueryEngine\n",
    "from llama_index.core.retrievers import VectorIndexRetriever\n",
    "\n",
    "# Create a retriever with cosine similarity\n",
    "retriever = VectorIndexRetriever(\n",
    "    index=index,\n",
    "    similarity_top_k=2,\n",
    ")\n",
    "\n",
    "# Create a query engine\n",
    "query_engine = RetrieverQueryEngine(\n",
    "    retriever=retriever,\n",
    "    llm=OpenAI(model=\"gpt-4o-mini\")\n",
    ")\n",
    "\n",
    "# Now let's query about OpenCampus.sh with our RAG system\n",
    "response = query_engine.query(\"What is OpenCampus.sh and what does it do?\")\n",
    "print(response)"
   ]
  },
  {
   "cell_type": "markdown",
   "id": "34b48cb5-7809-4e06-8299-bb98f2910226",
   "metadata": {},
   "source": [
    "Let's also add a function to demonstrate how cosine similarity works under the hood:"
   ]
  },
  {
   "cell_type": "code",
   "execution_count": null,
   "id": "ffffc566-cf5c-40cc-a158-d8260ef0ad76",
   "metadata": {},
   "outputs": [],
   "source": [
    "def cosine_similarity_demo():\n",
    "    \"\"\"Demonstrate how cosine similarity works with embeddings\"\"\"\n",
    "    # Get embeddings for two related texts\n",
    "    text1 = \"OpenCampus.sh provides educational opportunities.\"\n",
    "    text2 = \"Education and learning are offered by OpenCampus.\"\n",
    "    text3 = \"Hamburg is a city in northern Germany.\"\n",
    "    \n",
    "    # Get embeddings\n",
    "    embedding1 = embed_model.get_text_embedding(text1)\n",
    "    embedding2 = embed_model.get_text_embedding(text2)\n",
    "    embedding3 = embed_model.get_text_embedding(text3)\n",
    "    \n",
    "    # Convert to numpy arrays for easier calculation\n",
    "    emb1 = np.array(embedding1)\n",
    "    emb2 = np.array(embedding2)\n",
    "    emb3 = np.array(embedding3)\n",
    "    \n",
    "    # Calculate cosine similarity\n",
    "    def cosine_sim(a, b):\n",
    "        return np.dot(a, b) / (np.linalg.norm(a) * np.linalg.norm(b))\n",
    "    \n",
    "    sim_1_2 = cosine_sim(emb1, emb2)\n",
    "    sim_1_3 = cosine_sim(emb1, emb3)\n",
    "    sim_2_3 = cosine_sim(emb2, emb3)\n",
    "    \n",
    "    print(f\"Similarity between related texts: {sim_1_2:.4f}\")\n",
    "    print(f\"Similarity between text1 and unrelated text: {sim_1_3:.4f}\")\n",
    "    print(f\"Similarity between text2 and unrelated text: {sim_2_3:.4f}\")\n",
    "    \n",
    "    return \"As shown, cosine similarity gives higher scores to semantically related texts\"\n",
    "\n",
    "# Run the demonstration\n",
    "cosine_similarity_demo()"
   ]
  },
  {
   "cell_type": "markdown",
   "id": "b6a2a8fd-ee52-46a6-a380-6384baf3849b",
   "metadata": {},
   "source": [
    "Finally, let's add a cell to compare RAG results with the previous direct LLM queries:"
   ]
  },
  {
   "cell_type": "code",
   "execution_count": null,
   "id": "c8e3f8c7-f820-4fed-bc5f-fbdabb6da07d",
   "metadata": {},
   "outputs": [],
   "source": [
    "# Compare RAG results with direct LLM query\n",
    "print(\"--- Direct LLM Query ---\")\n",
    "direct_response = OpenAI(model=\"gpt-4o-mini\").complete(\"What is OpenCampus.sh?\")\n",
    "print(direct_response)\n",
    "\n",
    "print(\"\\n--- RAG with Cosine Similarity ---\")\n",
    "rag_response = query_engine.query(\"What is OpenCampus.sh?\")\n",
    "print(rag_response)"
   ]
  }
 ],
 "metadata": {
  "kernelspec": {
   "display_name": "Python 3 (ipykernel)",
   "language": "python",
   "name": "python3"
  },
  "language_info": {
   "codemirror_mode": {
    "name": "ipython",
    "version": 3
   },
   "file_extension": ".py",
   "mimetype": "text/x-python",
   "name": "python",
   "nbconvert_exporter": "python",
   "pygments_lexer": "ipython3",
   "version": "3.11.5"
  }
 },
 "nbformat": 4,
 "nbformat_minor": 5
}
