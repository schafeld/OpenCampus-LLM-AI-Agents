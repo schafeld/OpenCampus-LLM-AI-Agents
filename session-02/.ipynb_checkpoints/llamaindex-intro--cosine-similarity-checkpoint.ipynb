{
 "cells": [
  {
   "cell_type": "markdown",
   "id": "25c75732-3e10-48c9-89d3-dd43595bbc3d",
   "metadata": {},
   "source": [
    "# First llamaindex tutorial"
   ]
  },
  {
   "cell_type": "markdown",
   "id": "e5b5a67c-fc98-44c2-b534-b20025276e51",
   "metadata": {},
   "source": [
    "Prepare to import your API key"
   ]
  },
  {
   "cell_type": "code",
   "execution_count": 3,
   "id": "77edabf7-09fb-4f4c-9930-f75b522ef2db",
   "metadata": {},
   "outputs": [
    {
     "name": "stdout",
     "output_type": "stream",
     "text": [
      "Requirement already satisfied: python-dotenv in /Users/user001/anaconda3/lib/python3.11/site-packages (1.1.0)\n",
      "Note: you may need to restart the kernel to use updated packages.\n"
     ]
    }
   ],
   "source": [
    "pip install python-dotenv"
   ]
  },
  {
   "cell_type": "markdown",
   "id": "1d7865bf-2c6d-4fb0-84a9-d6bb4ffd2f5a",
   "metadata": {},
   "source": [
    "Similar to langchain llamaindex provides a lot of functionality to easily work with LLMs. It is one of the most popular frameworks besides langchain"
   ]
  },
  {
   "cell_type": "code",
   "execution_count": 5,
   "id": "53499eb2-dacd-4395-ba3b-e413492d1444",
   "metadata": {},
   "outputs": [
    {
     "name": "stdout",
     "output_type": "stream",
     "text": [
      "Requirement already satisfied: llama-index in /Users/user001/anaconda3/lib/python3.11/site-packages (0.12.34)\n",
      "Requirement already satisfied: llama-index-agent-openai<0.5,>=0.4.0 in /Users/user001/anaconda3/lib/python3.11/site-packages (from llama-index) (0.4.7)\n",
      "Requirement already satisfied: llama-index-cli<0.5,>=0.4.1 in /Users/user001/anaconda3/lib/python3.11/site-packages (from llama-index) (0.4.1)\n",
      "Requirement already satisfied: llama-index-core<0.13,>=0.12.34 in /Users/user001/anaconda3/lib/python3.11/site-packages (from llama-index) (0.12.34.post1)\n",
      "Requirement already satisfied: llama-index-embeddings-openai<0.4,>=0.3.0 in /Users/user001/anaconda3/lib/python3.11/site-packages (from llama-index) (0.3.1)\n",
      "Requirement already satisfied: llama-index-indices-managed-llama-cloud>=0.4.0 in /Users/user001/anaconda3/lib/python3.11/site-packages (from llama-index) (0.6.11)\n",
      "Requirement already satisfied: llama-index-llms-openai<0.4,>=0.3.0 in /Users/user001/anaconda3/lib/python3.11/site-packages (from llama-index) (0.3.38)\n",
      "Requirement already satisfied: llama-index-multi-modal-llms-openai<0.5,>=0.4.0 in /Users/user001/anaconda3/lib/python3.11/site-packages (from llama-index) (0.4.3)\n",
      "Requirement already satisfied: llama-index-program-openai<0.4,>=0.3.0 in /Users/user001/anaconda3/lib/python3.11/site-packages (from llama-index) (0.3.1)\n",
      "Requirement already satisfied: llama-index-question-gen-openai<0.4,>=0.3.0 in /Users/user001/anaconda3/lib/python3.11/site-packages (from llama-index) (0.3.0)\n",
      "Requirement already satisfied: llama-index-readers-file<0.5,>=0.4.0 in /Users/user001/anaconda3/lib/python3.11/site-packages (from llama-index) (0.4.7)\n",
      "Requirement already satisfied: llama-index-readers-llama-parse>=0.4.0 in /Users/user001/anaconda3/lib/python3.11/site-packages (from llama-index) (0.4.0)\n",
      "Requirement already satisfied: nltk>3.8.1 in /Users/user001/anaconda3/lib/python3.11/site-packages (from llama-index) (3.9.1)\n",
      "Requirement already satisfied: openai>=1.14.0 in /Users/user001/anaconda3/lib/python3.11/site-packages (from llama-index-agent-openai<0.5,>=0.4.0->llama-index) (1.77.0)\n",
      "Requirement already satisfied: aiohttp<4,>=3.8.6 in /Users/user001/anaconda3/lib/python3.11/site-packages (from llama-index-core<0.13,>=0.12.34->llama-index) (3.11.18)\n",
      "Requirement already satisfied: banks<3,>=2.0.0 in /Users/user001/anaconda3/lib/python3.11/site-packages (from llama-index-core<0.13,>=0.12.34->llama-index) (2.1.2)\n",
      "Requirement already satisfied: dataclasses-json in /Users/user001/anaconda3/lib/python3.11/site-packages (from llama-index-core<0.13,>=0.12.34->llama-index) (0.6.7)\n",
      "Requirement already satisfied: deprecated>=1.2.9.3 in /Users/user001/anaconda3/lib/python3.11/site-packages (from llama-index-core<0.13,>=0.12.34->llama-index) (1.2.18)\n",
      "Requirement already satisfied: dirtyjson<2,>=1.0.8 in /Users/user001/anaconda3/lib/python3.11/site-packages (from llama-index-core<0.13,>=0.12.34->llama-index) (1.0.8)\n",
      "Requirement already satisfied: filetype<2,>=1.2.0 in /Users/user001/anaconda3/lib/python3.11/site-packages (from llama-index-core<0.13,>=0.12.34->llama-index) (1.2.0)\n",
      "Requirement already satisfied: fsspec>=2023.5.0 in /Users/user001/anaconda3/lib/python3.11/site-packages (from llama-index-core<0.13,>=0.12.34->llama-index) (2025.3.2)\n",
      "Requirement already satisfied: httpx in /Users/user001/anaconda3/lib/python3.11/site-packages (from llama-index-core<0.13,>=0.12.34->llama-index) (0.27.0)\n",
      "Requirement already satisfied: nest-asyncio<2,>=1.5.8 in /Users/user001/anaconda3/lib/python3.11/site-packages (from llama-index-core<0.13,>=0.12.34->llama-index) (1.6.0)\n",
      "Requirement already satisfied: networkx>=3.0 in /Users/user001/anaconda3/lib/python3.11/site-packages (from llama-index-core<0.13,>=0.12.34->llama-index) (3.1)\n",
      "Requirement already satisfied: numpy in /Users/user001/anaconda3/lib/python3.11/site-packages (from llama-index-core<0.13,>=0.12.34->llama-index) (2.2.5)\n",
      "Requirement already satisfied: pillow>=9.0.0 in /Users/user001/anaconda3/lib/python3.11/site-packages (from llama-index-core<0.13,>=0.12.34->llama-index) (10.0.1)\n",
      "Requirement already satisfied: pydantic>=2.8.0 in /Users/user001/anaconda3/lib/python3.11/site-packages (from llama-index-core<0.13,>=0.12.34->llama-index) (2.11.3)\n",
      "Requirement already satisfied: pyyaml>=6.0.1 in /Users/user001/anaconda3/lib/python3.11/site-packages (from llama-index-core<0.13,>=0.12.34->llama-index) (6.0.2)\n",
      "Requirement already satisfied: requests>=2.31.0 in /Users/user001/anaconda3/lib/python3.11/site-packages (from llama-index-core<0.13,>=0.12.34->llama-index) (2.31.0)\n",
      "Requirement already satisfied: sqlalchemy[asyncio]>=1.4.49 in /Users/user001/anaconda3/lib/python3.11/site-packages (from llama-index-core<0.13,>=0.12.34->llama-index) (2.0.35)\n",
      "Requirement already satisfied: tenacity!=8.4.0,<10.0.0,>=8.2.0 in /Users/user001/anaconda3/lib/python3.11/site-packages (from llama-index-core<0.13,>=0.12.34->llama-index) (8.2.2)\n",
      "Requirement already satisfied: tiktoken>=0.7.0 in /Users/user001/anaconda3/lib/python3.11/site-packages (from llama-index-core<0.13,>=0.12.34->llama-index) (0.9.0)\n",
      "Requirement already satisfied: tqdm<5,>=4.66.1 in /Users/user001/anaconda3/lib/python3.11/site-packages (from llama-index-core<0.13,>=0.12.34->llama-index) (4.67.1)\n",
      "Requirement already satisfied: typing-extensions>=4.5.0 in /Users/user001/anaconda3/lib/python3.11/site-packages (from llama-index-core<0.13,>=0.12.34->llama-index) (4.13.2)\n",
      "Requirement already satisfied: typing-inspect>=0.8.0 in /Users/user001/anaconda3/lib/python3.11/site-packages (from llama-index-core<0.13,>=0.12.34->llama-index) (0.9.0)\n",
      "Requirement already satisfied: wrapt in /Users/user001/anaconda3/lib/python3.11/site-packages (from llama-index-core<0.13,>=0.12.34->llama-index) (1.14.1)\n",
      "Requirement already satisfied: llama-cloud<0.2.0,>=0.1.13 in /Users/user001/anaconda3/lib/python3.11/site-packages (from llama-index-indices-managed-llama-cloud>=0.4.0->llama-index) (0.1.19)\n",
      "Requirement already satisfied: beautifulsoup4<5.0.0,>=4.12.3 in /Users/user001/anaconda3/lib/python3.11/site-packages (from llama-index-readers-file<0.5,>=0.4.0->llama-index) (4.13.4)\n",
      "Requirement already satisfied: pandas in /Users/user001/anaconda3/lib/python3.11/site-packages (from llama-index-readers-file<0.5,>=0.4.0->llama-index) (2.0.3)\n",
      "Requirement already satisfied: pypdf<6.0.0,>=5.1.0 in /Users/user001/anaconda3/lib/python3.11/site-packages (from llama-index-readers-file<0.5,>=0.4.0->llama-index) (5.4.0)\n",
      "Requirement already satisfied: striprtf<0.0.27,>=0.0.26 in /Users/user001/anaconda3/lib/python3.11/site-packages (from llama-index-readers-file<0.5,>=0.4.0->llama-index) (0.0.26)\n",
      "Requirement already satisfied: llama-parse>=0.5.0 in /Users/user001/anaconda3/lib/python3.11/site-packages (from llama-index-readers-llama-parse>=0.4.0->llama-index) (0.6.21)\n",
      "Requirement already satisfied: click in /Users/user001/anaconda3/lib/python3.11/site-packages (from nltk>3.8.1->llama-index) (8.1.8)\n",
      "Requirement already satisfied: joblib in /Users/user001/anaconda3/lib/python3.11/site-packages (from nltk>3.8.1->llama-index) (1.2.0)\n",
      "Requirement already satisfied: regex>=2021.8.3 in /Users/user001/anaconda3/lib/python3.11/site-packages (from nltk>3.8.1->llama-index) (2022.7.9)\n",
      "Requirement already satisfied: aiohappyeyeballs>=2.3.0 in /Users/user001/anaconda3/lib/python3.11/site-packages (from aiohttp<4,>=3.8.6->llama-index-core<0.13,>=0.12.34->llama-index) (2.6.1)\n",
      "Requirement already satisfied: aiosignal>=1.1.2 in /Users/user001/anaconda3/lib/python3.11/site-packages (from aiohttp<4,>=3.8.6->llama-index-core<0.13,>=0.12.34->llama-index) (1.2.0)\n",
      "Requirement already satisfied: attrs>=17.3.0 in /Users/user001/anaconda3/lib/python3.11/site-packages (from aiohttp<4,>=3.8.6->llama-index-core<0.13,>=0.12.34->llama-index) (22.1.0)\n",
      "Requirement already satisfied: frozenlist>=1.1.1 in /Users/user001/anaconda3/lib/python3.11/site-packages (from aiohttp<4,>=3.8.6->llama-index-core<0.13,>=0.12.34->llama-index) (1.3.3)\n",
      "Requirement already satisfied: multidict<7.0,>=4.5 in /Users/user001/anaconda3/lib/python3.11/site-packages (from aiohttp<4,>=3.8.6->llama-index-core<0.13,>=0.12.34->llama-index) (6.0.2)\n",
      "Requirement already satisfied: propcache>=0.2.0 in /Users/user001/anaconda3/lib/python3.11/site-packages (from aiohttp<4,>=3.8.6->llama-index-core<0.13,>=0.12.34->llama-index) (0.3.1)\n",
      "Requirement already satisfied: yarl<2.0,>=1.17.0 in /Users/user001/anaconda3/lib/python3.11/site-packages (from aiohttp<4,>=3.8.6->llama-index-core<0.13,>=0.12.34->llama-index) (1.20.0)\n",
      "Requirement already satisfied: griffe in /Users/user001/anaconda3/lib/python3.11/site-packages (from banks<3,>=2.0.0->llama-index-core<0.13,>=0.12.34->llama-index) (1.7.3)\n",
      "Requirement already satisfied: jinja2 in /Users/user001/anaconda3/lib/python3.11/site-packages (from banks<3,>=2.0.0->llama-index-core<0.13,>=0.12.34->llama-index) (3.1.2)\n",
      "Requirement already satisfied: platformdirs in /Users/user001/anaconda3/lib/python3.11/site-packages (from banks<3,>=2.0.0->llama-index-core<0.13,>=0.12.34->llama-index) (4.3.7)\n",
      "Requirement already satisfied: soupsieve>1.2 in /Users/user001/anaconda3/lib/python3.11/site-packages (from beautifulsoup4<5.0.0,>=4.12.3->llama-index-readers-file<0.5,>=0.4.0->llama-index) (2.4)\n",
      "Requirement already satisfied: certifi>=2024.7.4 in /Users/user001/anaconda3/lib/python3.11/site-packages (from llama-cloud<0.2.0,>=0.1.13->llama-index-indices-managed-llama-cloud>=0.4.0->llama-index) (2025.1.31)\n",
      "Requirement already satisfied: anyio in /Users/user001/anaconda3/lib/python3.11/site-packages (from httpx->llama-index-core<0.13,>=0.12.34->llama-index) (3.5.0)\n",
      "Requirement already satisfied: httpcore==1.* in /Users/user001/anaconda3/lib/python3.11/site-packages (from httpx->llama-index-core<0.13,>=0.12.34->llama-index) (1.0.5)\n",
      "Requirement already satisfied: idna in /Users/user001/anaconda3/lib/python3.11/site-packages (from httpx->llama-index-core<0.13,>=0.12.34->llama-index) (3.4)\n",
      "Requirement already satisfied: sniffio in /Users/user001/anaconda3/lib/python3.11/site-packages (from httpx->llama-index-core<0.13,>=0.12.34->llama-index) (1.2.0)\n",
      "Requirement already satisfied: h11<0.15,>=0.13 in /Users/user001/anaconda3/lib/python3.11/site-packages (from httpcore==1.*->httpx->llama-index-core<0.13,>=0.12.34->llama-index) (0.14.0)\n",
      "Requirement already satisfied: llama-cloud-services>=0.6.21 in /Users/user001/anaconda3/lib/python3.11/site-packages (from llama-parse>=0.5.0->llama-index-readers-llama-parse>=0.4.0->llama-index) (0.6.21)\n",
      "Requirement already satisfied: distro<2,>=1.7.0 in /Users/user001/anaconda3/lib/python3.11/site-packages (from openai>=1.14.0->llama-index-agent-openai<0.5,>=0.4.0->llama-index) (1.9.0)\n",
      "Requirement already satisfied: jiter<1,>=0.4.0 in /Users/user001/anaconda3/lib/python3.11/site-packages (from openai>=1.14.0->llama-index-agent-openai<0.5,>=0.4.0->llama-index) (0.9.0)\n",
      "Requirement already satisfied: annotated-types>=0.6.0 in /Users/user001/anaconda3/lib/python3.11/site-packages (from pydantic>=2.8.0->llama-index-core<0.13,>=0.12.34->llama-index) (0.7.0)\n",
      "Requirement already satisfied: pydantic-core==2.33.1 in /Users/user001/anaconda3/lib/python3.11/site-packages (from pydantic>=2.8.0->llama-index-core<0.13,>=0.12.34->llama-index) (2.33.1)\n",
      "Requirement already satisfied: typing-inspection>=0.4.0 in /Users/user001/anaconda3/lib/python3.11/site-packages (from pydantic>=2.8.0->llama-index-core<0.13,>=0.12.34->llama-index) (0.4.0)\n",
      "Requirement already satisfied: charset-normalizer<4,>=2 in /Users/user001/anaconda3/lib/python3.11/site-packages (from requests>=2.31.0->llama-index-core<0.13,>=0.12.34->llama-index) (2.0.4)\n",
      "Requirement already satisfied: urllib3<3,>=1.21.1 in /Users/user001/anaconda3/lib/python3.11/site-packages (from requests>=2.31.0->llama-index-core<0.13,>=0.12.34->llama-index) (1.26.16)\n",
      "Requirement already satisfied: greenlet!=0.4.17 in /Users/user001/anaconda3/lib/python3.11/site-packages (from sqlalchemy[asyncio]>=1.4.49->llama-index-core<0.13,>=0.12.34->llama-index) (2.0.1)\n",
      "Requirement already satisfied: mypy-extensions>=0.3.0 in /Users/user001/anaconda3/lib/python3.11/site-packages (from typing-inspect>=0.8.0->llama-index-core<0.13,>=0.12.34->llama-index) (1.0.0)\n",
      "Requirement already satisfied: marshmallow<4.0.0,>=3.18.0 in /Users/user001/anaconda3/lib/python3.11/site-packages (from dataclasses-json->llama-index-core<0.13,>=0.12.34->llama-index) (3.22.0)\n",
      "Requirement already satisfied: python-dateutil>=2.8.2 in /Users/user001/anaconda3/lib/python3.11/site-packages (from pandas->llama-index-readers-file<0.5,>=0.4.0->llama-index) (2.8.2)\n",
      "Requirement already satisfied: pytz>=2020.1 in /Users/user001/anaconda3/lib/python3.11/site-packages (from pandas->llama-index-readers-file<0.5,>=0.4.0->llama-index) (2023.3.post1)\n",
      "Requirement already satisfied: tzdata>=2022.1 in /Users/user001/anaconda3/lib/python3.11/site-packages (from pandas->llama-index-readers-file<0.5,>=0.4.0->llama-index) (2023.3)\n",
      "Requirement already satisfied: python-dotenv<2.0.0,>=1.0.1 in /Users/user001/anaconda3/lib/python3.11/site-packages (from llama-cloud-services>=0.6.21->llama-parse>=0.5.0->llama-index-readers-llama-parse>=0.4.0->llama-index) (1.1.0)\n",
      "Requirement already satisfied: packaging>=17.0 in /Users/user001/anaconda3/lib/python3.11/site-packages (from marshmallow<4.0.0,>=3.18.0->dataclasses-json->llama-index-core<0.13,>=0.12.34->llama-index) (24.2)\n",
      "Requirement already satisfied: six>=1.5 in /Users/user001/anaconda3/lib/python3.11/site-packages (from python-dateutil>=2.8.2->pandas->llama-index-readers-file<0.5,>=0.4.0->llama-index) (1.16.0)\n",
      "Requirement already satisfied: colorama>=0.4 in /Users/user001/anaconda3/lib/python3.11/site-packages (from griffe->banks<3,>=2.0.0->llama-index-core<0.13,>=0.12.34->llama-index) (0.4.6)\n",
      "Requirement already satisfied: MarkupSafe>=2.0 in /Users/user001/anaconda3/lib/python3.11/site-packages (from jinja2->banks<3,>=2.0.0->llama-index-core<0.13,>=0.12.34->llama-index) (2.1.1)\n",
      "Note: you may need to restart the kernel to use updated packages.\n"
     ]
    }
   ],
   "source": [
    "pip install llama-index"
   ]
  },
  {
   "cell_type": "code",
   "execution_count": 6,
   "id": "87c39a91",
   "metadata": {},
   "outputs": [],
   "source": [
    "#skip this section if you have no openai api key\n",
    "import getpass\n",
    "import os\n",
    "from dotenv import load_dotenv\n",
    "\n",
    "load_dotenv(os.path.expanduser(\"~/Projekte/MOOC/OpenCampus/codespace/.env\"))\n",
    "\n",
    "if \"OPENAI_API_KEY\" not in os.environ:\n",
    "    os.environ[\"OPENAI_API_KEY\"] = getpass.getpass(\n",
    "        prompt=\"Enter your OpenAI API key (required if using OpenAI): \"\n",
    "    )"
   ]
  },
  {
   "cell_type": "markdown",
   "id": "dee07feb-7ee6-4a6f-8531-7f7770ed6671",
   "metadata": {},
   "source": [
    "Let's ask the model about if it knows about opencampus.sh"
   ]
  },
  {
   "cell_type": "code",
   "execution_count": 8,
   "id": "7100bf1a-c1bc-4928-8bba-8e71f580aac1",
   "metadata": {},
   "outputs": [
    {
     "name": "stdout",
     "output_type": "stream",
     "text": [
      "As of my last knowledge update in October 2023, \"opencampus.sh\" does not refer to a widely recognized or established project, platform, or concept. It is possible that it could be a specific script, tool, or project related to open-source education, campus management, or similar themes, but without more context, it's difficult to provide a precise answer.\n",
      "\n",
      "If \"opencampus.sh\" is a recent development or a niche project, I recommend checking the latest online resources, repositories (like GitHub), or official documentation for more information. If you have specific details or context about what \"opencampus.sh\" refers to, please share, and I can help you better!\n"
     ]
    }
   ],
   "source": [
    "from llama_index.llms.openai import OpenAI\n",
    "\n",
    "response = OpenAI(model=\"gpt-4o-mini\").complete(\"What is opencampus.sh \")\n",
    "print(response)"
   ]
  },
  {
   "cell_type": "markdown",
   "id": "cf6c12ad-393a-4f24-802a-a2da23f9b900",
   "metadata": {},
   "source": [
    "Uhh that is kind of a bummer, it does not even know about us. Probably because opencampus.sh is only fewly mentioned on any website etc.\n",
    "\n",
    "Let's try out the new 4.1 model"
   ]
  },
  {
   "cell_type": "code",
   "execution_count": 10,
   "id": "76759e34-856d-4e8e-8a1e-2c9b7f65f91d",
   "metadata": {},
   "outputs": [],
   "source": [
    "from llama_index.core.llms import ChatMessage\n",
    "llm = OpenAI(model=\"gpt-4.1-mini\")\n",
    "messages = [\n",
    "    ChatMessage(role=\"system\", content=\"You are a helpful assistant.\"),\n",
    "    ChatMessage(role=\"user\", content=\"What is opencampus.sh\"),\n",
    "]\n",
    "chat_response = llm.chat(messages)"
   ]
  },
  {
   "cell_type": "code",
   "execution_count": 11,
   "id": "3281939d-6c07-46f0-bd01-b647e8759e78",
   "metadata": {},
   "outputs": [
    {
     "name": "stdout",
     "output_type": "stream",
     "text": [
      "assistant: Opencampus.sh is a platform designed to provide online educational resources, courses, and training programs. It typically offers a variety of learning materials, including video lectures, tutorials, and interactive content, aimed at helping students and professionals enhance their skills and knowledge in different fields. The platform may focus on areas such as technology, programming, data science, and other academic or professional subjects.\n",
      "\n",
      "If you have a specific context or need more detailed information about opencampus.sh, please let me know!\n"
     ]
    }
   ],
   "source": [
    "print(chat_response)"
   ]
  },
  {
   "cell_type": "markdown",
   "id": "40b1b618-d33f-45fc-8f6e-70283488fbb0",
   "metadata": {},
   "source": [
    "Hmm seems to go a bit into hallucinations here"
   ]
  },
  {
   "cell_type": "markdown",
   "id": "681ec06c-f4df-4894-8c06-69527c03494c",
   "metadata": {},
   "source": [
    "## Olama"
   ]
  },
  {
   "cell_type": "code",
   "execution_count": 14,
   "id": "0033ab4b-9ff1-43d9-ad66-32651fd65c05",
   "metadata": {},
   "outputs": [
    {
     "name": "stdout",
     "output_type": "stream",
     "text": [
      "Requirement already satisfied: llama-index-llms-ollama in /Users/user001/anaconda3/lib/python3.11/site-packages (0.5.4)\n",
      "Requirement already satisfied: llama-index-core<0.13.0,>=0.12.4 in /Users/user001/anaconda3/lib/python3.11/site-packages (from llama-index-llms-ollama) (0.12.34.post1)\n",
      "Requirement already satisfied: ollama>=0.4.3 in /Users/user001/anaconda3/lib/python3.11/site-packages (from llama-index-llms-ollama) (0.4.8)\n",
      "Requirement already satisfied: aiohttp<4,>=3.8.6 in /Users/user001/anaconda3/lib/python3.11/site-packages (from llama-index-core<0.13.0,>=0.12.4->llama-index-llms-ollama) (3.11.18)\n",
      "Requirement already satisfied: banks<3,>=2.0.0 in /Users/user001/anaconda3/lib/python3.11/site-packages (from llama-index-core<0.13.0,>=0.12.4->llama-index-llms-ollama) (2.1.2)\n",
      "Requirement already satisfied: dataclasses-json in /Users/user001/anaconda3/lib/python3.11/site-packages (from llama-index-core<0.13.0,>=0.12.4->llama-index-llms-ollama) (0.6.7)\n",
      "Requirement already satisfied: deprecated>=1.2.9.3 in /Users/user001/anaconda3/lib/python3.11/site-packages (from llama-index-core<0.13.0,>=0.12.4->llama-index-llms-ollama) (1.2.18)\n",
      "Requirement already satisfied: dirtyjson<2,>=1.0.8 in /Users/user001/anaconda3/lib/python3.11/site-packages (from llama-index-core<0.13.0,>=0.12.4->llama-index-llms-ollama) (1.0.8)\n",
      "Requirement already satisfied: filetype<2,>=1.2.0 in /Users/user001/anaconda3/lib/python3.11/site-packages (from llama-index-core<0.13.0,>=0.12.4->llama-index-llms-ollama) (1.2.0)\n",
      "Requirement already satisfied: fsspec>=2023.5.0 in /Users/user001/anaconda3/lib/python3.11/site-packages (from llama-index-core<0.13.0,>=0.12.4->llama-index-llms-ollama) (2025.3.2)\n",
      "Requirement already satisfied: httpx in /Users/user001/anaconda3/lib/python3.11/site-packages (from llama-index-core<0.13.0,>=0.12.4->llama-index-llms-ollama) (0.27.0)\n",
      "Requirement already satisfied: nest-asyncio<2,>=1.5.8 in /Users/user001/anaconda3/lib/python3.11/site-packages (from llama-index-core<0.13.0,>=0.12.4->llama-index-llms-ollama) (1.6.0)\n",
      "Requirement already satisfied: networkx>=3.0 in /Users/user001/anaconda3/lib/python3.11/site-packages (from llama-index-core<0.13.0,>=0.12.4->llama-index-llms-ollama) (3.1)\n",
      "Requirement already satisfied: nltk>3.8.1 in /Users/user001/anaconda3/lib/python3.11/site-packages (from llama-index-core<0.13.0,>=0.12.4->llama-index-llms-ollama) (3.9.1)\n",
      "Requirement already satisfied: numpy in /Users/user001/anaconda3/lib/python3.11/site-packages (from llama-index-core<0.13.0,>=0.12.4->llama-index-llms-ollama) (2.2.5)\n",
      "Requirement already satisfied: pillow>=9.0.0 in /Users/user001/anaconda3/lib/python3.11/site-packages (from llama-index-core<0.13.0,>=0.12.4->llama-index-llms-ollama) (10.0.1)\n",
      "Requirement already satisfied: pydantic>=2.8.0 in /Users/user001/anaconda3/lib/python3.11/site-packages (from llama-index-core<0.13.0,>=0.12.4->llama-index-llms-ollama) (2.11.3)\n",
      "Requirement already satisfied: pyyaml>=6.0.1 in /Users/user001/anaconda3/lib/python3.11/site-packages (from llama-index-core<0.13.0,>=0.12.4->llama-index-llms-ollama) (6.0.2)\n",
      "Requirement already satisfied: requests>=2.31.0 in /Users/user001/anaconda3/lib/python3.11/site-packages (from llama-index-core<0.13.0,>=0.12.4->llama-index-llms-ollama) (2.31.0)\n",
      "Requirement already satisfied: sqlalchemy[asyncio]>=1.4.49 in /Users/user001/anaconda3/lib/python3.11/site-packages (from llama-index-core<0.13.0,>=0.12.4->llama-index-llms-ollama) (2.0.35)\n",
      "Requirement already satisfied: tenacity!=8.4.0,<10.0.0,>=8.2.0 in /Users/user001/anaconda3/lib/python3.11/site-packages (from llama-index-core<0.13.0,>=0.12.4->llama-index-llms-ollama) (8.2.2)\n",
      "Requirement already satisfied: tiktoken>=0.7.0 in /Users/user001/anaconda3/lib/python3.11/site-packages (from llama-index-core<0.13.0,>=0.12.4->llama-index-llms-ollama) (0.9.0)\n",
      "Requirement already satisfied: tqdm<5,>=4.66.1 in /Users/user001/anaconda3/lib/python3.11/site-packages (from llama-index-core<0.13.0,>=0.12.4->llama-index-llms-ollama) (4.67.1)\n",
      "Requirement already satisfied: typing-extensions>=4.5.0 in /Users/user001/anaconda3/lib/python3.11/site-packages (from llama-index-core<0.13.0,>=0.12.4->llama-index-llms-ollama) (4.13.2)\n",
      "Requirement already satisfied: typing-inspect>=0.8.0 in /Users/user001/anaconda3/lib/python3.11/site-packages (from llama-index-core<0.13.0,>=0.12.4->llama-index-llms-ollama) (0.9.0)\n",
      "Requirement already satisfied: wrapt in /Users/user001/anaconda3/lib/python3.11/site-packages (from llama-index-core<0.13.0,>=0.12.4->llama-index-llms-ollama) (1.14.1)\n",
      "Requirement already satisfied: aiohappyeyeballs>=2.3.0 in /Users/user001/anaconda3/lib/python3.11/site-packages (from aiohttp<4,>=3.8.6->llama-index-core<0.13.0,>=0.12.4->llama-index-llms-ollama) (2.6.1)\n",
      "Requirement already satisfied: aiosignal>=1.1.2 in /Users/user001/anaconda3/lib/python3.11/site-packages (from aiohttp<4,>=3.8.6->llama-index-core<0.13.0,>=0.12.4->llama-index-llms-ollama) (1.2.0)\n",
      "Requirement already satisfied: attrs>=17.3.0 in /Users/user001/anaconda3/lib/python3.11/site-packages (from aiohttp<4,>=3.8.6->llama-index-core<0.13.0,>=0.12.4->llama-index-llms-ollama) (22.1.0)\n",
      "Requirement already satisfied: frozenlist>=1.1.1 in /Users/user001/anaconda3/lib/python3.11/site-packages (from aiohttp<4,>=3.8.6->llama-index-core<0.13.0,>=0.12.4->llama-index-llms-ollama) (1.3.3)\n",
      "Requirement already satisfied: multidict<7.0,>=4.5 in /Users/user001/anaconda3/lib/python3.11/site-packages (from aiohttp<4,>=3.8.6->llama-index-core<0.13.0,>=0.12.4->llama-index-llms-ollama) (6.0.2)\n",
      "Requirement already satisfied: propcache>=0.2.0 in /Users/user001/anaconda3/lib/python3.11/site-packages (from aiohttp<4,>=3.8.6->llama-index-core<0.13.0,>=0.12.4->llama-index-llms-ollama) (0.3.1)\n",
      "Requirement already satisfied: yarl<2.0,>=1.17.0 in /Users/user001/anaconda3/lib/python3.11/site-packages (from aiohttp<4,>=3.8.6->llama-index-core<0.13.0,>=0.12.4->llama-index-llms-ollama) (1.20.0)\n",
      "Requirement already satisfied: griffe in /Users/user001/anaconda3/lib/python3.11/site-packages (from banks<3,>=2.0.0->llama-index-core<0.13.0,>=0.12.4->llama-index-llms-ollama) (1.7.3)\n",
      "Requirement already satisfied: jinja2 in /Users/user001/anaconda3/lib/python3.11/site-packages (from banks<3,>=2.0.0->llama-index-core<0.13.0,>=0.12.4->llama-index-llms-ollama) (3.1.2)\n",
      "Requirement already satisfied: platformdirs in /Users/user001/anaconda3/lib/python3.11/site-packages (from banks<3,>=2.0.0->llama-index-core<0.13.0,>=0.12.4->llama-index-llms-ollama) (4.3.7)\n",
      "Requirement already satisfied: anyio in /Users/user001/anaconda3/lib/python3.11/site-packages (from httpx->llama-index-core<0.13.0,>=0.12.4->llama-index-llms-ollama) (3.5.0)\n",
      "Requirement already satisfied: certifi in /Users/user001/anaconda3/lib/python3.11/site-packages (from httpx->llama-index-core<0.13.0,>=0.12.4->llama-index-llms-ollama) (2025.1.31)\n",
      "Requirement already satisfied: httpcore==1.* in /Users/user001/anaconda3/lib/python3.11/site-packages (from httpx->llama-index-core<0.13.0,>=0.12.4->llama-index-llms-ollama) (1.0.5)\n",
      "Requirement already satisfied: idna in /Users/user001/anaconda3/lib/python3.11/site-packages (from httpx->llama-index-core<0.13.0,>=0.12.4->llama-index-llms-ollama) (3.4)\n",
      "Requirement already satisfied: sniffio in /Users/user001/anaconda3/lib/python3.11/site-packages (from httpx->llama-index-core<0.13.0,>=0.12.4->llama-index-llms-ollama) (1.2.0)\n",
      "Requirement already satisfied: h11<0.15,>=0.13 in /Users/user001/anaconda3/lib/python3.11/site-packages (from httpcore==1.*->httpx->llama-index-core<0.13.0,>=0.12.4->llama-index-llms-ollama) (0.14.0)\n",
      "Requirement already satisfied: click in /Users/user001/anaconda3/lib/python3.11/site-packages (from nltk>3.8.1->llama-index-core<0.13.0,>=0.12.4->llama-index-llms-ollama) (8.1.8)\n",
      "Requirement already satisfied: joblib in /Users/user001/anaconda3/lib/python3.11/site-packages (from nltk>3.8.1->llama-index-core<0.13.0,>=0.12.4->llama-index-llms-ollama) (1.2.0)\n",
      "Requirement already satisfied: regex>=2021.8.3 in /Users/user001/anaconda3/lib/python3.11/site-packages (from nltk>3.8.1->llama-index-core<0.13.0,>=0.12.4->llama-index-llms-ollama) (2022.7.9)\n",
      "Requirement already satisfied: annotated-types>=0.6.0 in /Users/user001/anaconda3/lib/python3.11/site-packages (from pydantic>=2.8.0->llama-index-core<0.13.0,>=0.12.4->llama-index-llms-ollama) (0.7.0)\n",
      "Requirement already satisfied: pydantic-core==2.33.1 in /Users/user001/anaconda3/lib/python3.11/site-packages (from pydantic>=2.8.0->llama-index-core<0.13.0,>=0.12.4->llama-index-llms-ollama) (2.33.1)\n",
      "Requirement already satisfied: typing-inspection>=0.4.0 in /Users/user001/anaconda3/lib/python3.11/site-packages (from pydantic>=2.8.0->llama-index-core<0.13.0,>=0.12.4->llama-index-llms-ollama) (0.4.0)\n",
      "Requirement already satisfied: charset-normalizer<4,>=2 in /Users/user001/anaconda3/lib/python3.11/site-packages (from requests>=2.31.0->llama-index-core<0.13.0,>=0.12.4->llama-index-llms-ollama) (2.0.4)\n",
      "Requirement already satisfied: urllib3<3,>=1.21.1 in /Users/user001/anaconda3/lib/python3.11/site-packages (from requests>=2.31.0->llama-index-core<0.13.0,>=0.12.4->llama-index-llms-ollama) (1.26.16)\n",
      "Requirement already satisfied: greenlet!=0.4.17 in /Users/user001/anaconda3/lib/python3.11/site-packages (from sqlalchemy[asyncio]>=1.4.49->llama-index-core<0.13.0,>=0.12.4->llama-index-llms-ollama) (2.0.1)\n",
      "Requirement already satisfied: mypy-extensions>=0.3.0 in /Users/user001/anaconda3/lib/python3.11/site-packages (from typing-inspect>=0.8.0->llama-index-core<0.13.0,>=0.12.4->llama-index-llms-ollama) (1.0.0)\n",
      "Requirement already satisfied: marshmallow<4.0.0,>=3.18.0 in /Users/user001/anaconda3/lib/python3.11/site-packages (from dataclasses-json->llama-index-core<0.13.0,>=0.12.4->llama-index-llms-ollama) (3.22.0)\n",
      "Requirement already satisfied: packaging>=17.0 in /Users/user001/anaconda3/lib/python3.11/site-packages (from marshmallow<4.0.0,>=3.18.0->dataclasses-json->llama-index-core<0.13.0,>=0.12.4->llama-index-llms-ollama) (24.2)\n",
      "Requirement already satisfied: colorama>=0.4 in /Users/user001/anaconda3/lib/python3.11/site-packages (from griffe->banks<3,>=2.0.0->llama-index-core<0.13.0,>=0.12.4->llama-index-llms-ollama) (0.4.6)\n",
      "Requirement already satisfied: MarkupSafe>=2.0 in /Users/user001/anaconda3/lib/python3.11/site-packages (from jinja2->banks<3,>=2.0.0->llama-index-core<0.13.0,>=0.12.4->llama-index-llms-ollama) (2.1.1)\n",
      "Note: you may need to restart the kernel to use updated packages.\n"
     ]
    }
   ],
   "source": [
    "pip install llama-index-llms-ollama"
   ]
  },
  {
   "cell_type": "code",
   "execution_count": 15,
   "id": "6c2e6417-107c-449e-8cf1-9db4a981348f",
   "metadata": {},
   "outputs": [
    {
     "name": "stdout",
     "output_type": "stream",
     "text": [
      "assistant: Okay, let's break down what OpenCampus.sh is all about.\n",
      "\n",
      "**OpenCampus.sh is a decentralized, open-source platform for learning and knowledge sharing.** Think of it as a digital library and community centered around the principles of blockchain and open access. It's designed to be a more democratic and transparent alternative to traditional online learning platforms.\n",
      "\n",
      "Here's a breakdown of its key features and what makes it special:\n",
      "\n",
      "**1. Decentralized & Blockchain-Based:**\n",
      "\n",
      "* **Blockchain Technology:**  The core of OpenCampus.sh is built on a blockchain. This means its content (courses, articles, tutorials, etc.) is recorded on a distributed ledger, making it incredibly difficult to censor, manipulate, or remove.\n",
      "* **NFTs (Non-Fungible Tokens):**  Content creators are rewarded with NFTs (unique digital assets) for their contributions. This allows for verifiable ownership and incentivizes participation.  Think of it as a digital certificate of authenticity for the content.\n",
      "\n",
      "**2.  Key Features & Functionality:**\n",
      "\n",
      "* **Course Creation & Sharing:** Users can create and share courses, tutorials, and knowledge content.\n",
      "* **Community & Peer Review:**  The platform encourages peer review and feedback, leading to higher-quality content.\n",
      "* **Reputation System:** Users earn reputation points based on contributions and feedback, which influences their visibility and potential for future rewards.\n",
      "* **Decentralized Marketplace:**  Users can buy, sell, and trade NFTs representing access to content.\n",
      "* **DAO (Decentralized Autonomous Organization):**  OpenCampus.sh operates under a DAO, meaning decisions are made through community voting, ensuring a more democratic and participatory governance model.\n",
      "* **Focus on Practical Skills:** The platform emphasizes practical, skill-based learning, rather than purely theoretical knowledge.\n",
      "\n",
      "\n",
      "**3.  Why is it different?**\n",
      "\n",
      "* **Beyond Traditional Learning Platforms:** While platforms like Coursera and Udemy are popular, OpenCampus.sh aims to build a different ecosystem centered around the core values of openness, collaboration, and verifiable ownership.\n",
      "* **Focus on Education & Skill Development:** It’s particularly geared towards professionals looking to upskill or reskill in areas like data science, AI, blockchain, and more.\n",
      "\n",
      "\n",
      "\n",
      "**4.  Who Uses It?**\n",
      "\n",
      "* **Educators:**  Creating and distributing courses.\n",
      "* **Learners:**  Accessing and learning from a vast library of content.\n",
      "* **Developers:** Contributing to the platform's infrastructure and creating new tools and applications.\n",
      "* **Blockchain Enthusiasts:**  Participating in the evolving ecosystem.\n",
      "\n",
      "\n",
      "**Resources for More Info:**\n",
      "\n",
      "* **Official Website:** [https://opencampus.sh/](https://opencampus.sh/)\n",
      "* **Discord:** [https://discord.gg/OpenCampus](https://discord.gg/OpenCampus) (A good place to chat with the community)\n",
      "\n",
      "**In short, OpenCampus.sh is a promising project that's trying to revolutionize how knowledge is shared and validated online through blockchain technology.**\n",
      "\n",
      "---\n",
      "\n",
      "**Do you have any specific questions about OpenCampus.sh that you'd like me to answer? For example, would you like me to:**\n",
      "\n",
      "*   Explain a specific feature in more detail?\n",
      "*   Compare it to other learning platforms?\n",
      "*   Discuss the potential impact of the DAO?\n"
     ]
    }
   ],
   "source": [
    "from llama_index.llms.ollama import Ollama\n",
    "from llama_index.core.llms import ChatMessage\n",
    "\n",
    "llm = Ollama(model=\"gemma3:1b\", request_timeout=60.0)\n",
    "\n",
    "messages = [\n",
    "    ChatMessage(role=\"system\", content=\"You are a helpful assistant.\"),\n",
    "    ChatMessage(role=\"user\", content=\"What is opencampus.sh\"),\n",
    "]\n",
    "\n",
    "chat_response = llm.chat(messages)\n",
    "print(chat_response)"
   ]
  },
  {
   "cell_type": "markdown",
   "id": "0149a62e-d2ca-4d70-82cc-586e7c1baafe",
   "metadata": {},
   "source": [
    "Oh dear.."
   ]
  },
  {
   "cell_type": "markdown",
   "id": "fb1a71c5-25ce-4d7a-8bc8-82a2c65bd465",
   "metadata": {},
   "source": [
    "## Conclusion\n",
    "\n",
    "We have libraries which wrap the llm call into functions and classes of their liking. We gain that we can easily switch between different model providers but loose at lot of flexibility."
   ]
  },
  {
   "cell_type": "markdown",
   "id": "007a9231-8ae6-4e3b-8098-1e3b24cac183",
   "metadata": {},
   "source": [
    "Made with GitHub Copilot\n",
    "# Adding RAG with Cosine Similarity to the Notebook"
   ]
  },
  {
   "cell_type": "code",
   "execution_count": 19,
   "id": "f60bf4ef-f98d-4f91-8cab-8a935c163fd1",
   "metadata": {},
   "outputs": [
    {
     "name": "stdout",
     "output_type": "stream",
     "text": [
      "\u001b[31mERROR: Could not find a version that satisfies the requirement llama-index-vector-stores-simple (from versions: none)\u001b[0m\u001b[31m\n",
      "\u001b[0m\u001b[31mERROR: No matching distribution found for llama-index-vector-stores-simple\u001b[0m\u001b[31m\n",
      "\u001b[0m"
     ]
    }
   ],
   "source": [
    "# Install additional required packages\n",
    "#!pip install llama-index-vector-stores-simple numpy\n",
    "!pip install llama-index llama-index-vector-stores "
   ]
  },
  {
   "cell_type": "markdown",
   "id": "32a77b14-1c66-41be-8436-a47d6a9f0422",
   "metadata": {},
   "source": [
    "Then, let's add code to load documents and create an index:"
   ]
  },
  {
   "cell_type": "code",
   "execution_count": 21,
   "id": "aa85cf75-f641-499a-9b00-b47adb5452d2",
   "metadata": {},
   "outputs": [],
   "source": [
    "# Create a directory with some sample documents about OpenCampus.sh\n",
    "import os\n",
    "\n",
    "# Create a documents directory if it doesn't exist\n",
    "os.makedirs(\"documents\", exist_ok=True)\n",
    "\n",
    "# Create a sample document about OpenCampus.sh\n",
    "with open(\"documents/opencampus_info.txt\", \"w\") as f:\n",
    "    f.write(\"\"\"\n",
    "OpenCampus.sh is an innovative educational initiative based in Hamburg, Germany. \n",
    "It offers a variety of open and accessible learning opportunities in tech, \n",
    "digital skills, and modern professions. The platform provides MOOCs (Massive Open Online Courses), \n",
    "workshops, and project-based learning experiences that are often free or low-cost.\n",
    "\n",
    "Key characteristics of OpenCampus.sh:\n",
    "1. Community-focused education model\n",
    "2. Collaboration with industry partners and universities\n",
    "3. Practical, hands-on learning experiences\n",
    "4. Focus on modern digital skills and technologies\n",
    "5. Based in Hamburg but with online course offerings\n",
    "\n",
    "OpenCampus.sh aims to democratize access to education and bridge the gap between academic \n",
    "knowledge and practical industry requirements in the digital age.\n",
    "\"\"\")"
   ]
  },
  {
   "cell_type": "markdown",
   "id": "01ab6ae8-2c2e-4712-a21d-c9144efea782",
   "metadata": {},
   "source": [
    "Now let's implement document loading and indexing with cosine similarity:"
   ]
  },
  {
   "cell_type": "code",
   "execution_count": 23,
   "id": "65c24ac1-96de-4f55-9cbb-526b39bf9f88",
   "metadata": {},
   "outputs": [
    {
     "ename": "ModuleNotFoundError",
     "evalue": "No module named 'llama_index.vector_stores'",
     "output_type": "error",
     "traceback": [
      "\u001b[0;31m---------------------------------------------------------------------------\u001b[0m",
      "\u001b[0;31mModuleNotFoundError\u001b[0m                       Traceback (most recent call last)",
      "Cell \u001b[0;32mIn[23], line 2\u001b[0m\n\u001b[1;32m      1\u001b[0m \u001b[38;5;28;01mfrom\u001b[39;00m \u001b[38;5;21;01mllama_index\u001b[39;00m\u001b[38;5;21;01m.\u001b[39;00m\u001b[38;5;21;01mcore\u001b[39;00m \u001b[38;5;28;01mimport\u001b[39;00m VectorStoreIndex, SimpleDirectoryReader\n\u001b[0;32m----> 2\u001b[0m \u001b[38;5;28;01mfrom\u001b[39;00m \u001b[38;5;21;01mllama_index\u001b[39;00m\u001b[38;5;21;01m.\u001b[39;00m\u001b[38;5;21;01mvector_stores\u001b[39;00m\u001b[38;5;21;01m.\u001b[39;00m\u001b[38;5;21;01msimple\u001b[39;00m \u001b[38;5;28;01mimport\u001b[39;00m SimpleVectorStore\n\u001b[1;32m      3\u001b[0m \u001b[38;5;28;01mfrom\u001b[39;00m \u001b[38;5;21;01mllama_index\u001b[39;00m\u001b[38;5;21;01m.\u001b[39;00m\u001b[38;5;21;01mcore\u001b[39;00m\u001b[38;5;21;01m.\u001b[39;00m\u001b[38;5;21;01mvector_stores\u001b[39;00m \u001b[38;5;28;01mimport\u001b[39;00m MetadataFilters\n\u001b[1;32m      4\u001b[0m \u001b[38;5;28;01mfrom\u001b[39;00m \u001b[38;5;21;01mllama_index\u001b[39;00m\u001b[38;5;21;01m.\u001b[39;00m\u001b[38;5;21;01mcore\u001b[39;00m\u001b[38;5;21;01m.\u001b[39;00m\u001b[38;5;21;01mvector_stores\u001b[39;00m \u001b[38;5;28;01mimport\u001b[39;00m FilterOperator, ExactMatchFilter\n",
      "\u001b[0;31mModuleNotFoundError\u001b[0m: No module named 'llama_index.vector_stores'"
     ]
    }
   ],
   "source": [
    "from llama_index.core import VectorStoreIndex, SimpleDirectoryReader\n",
    "from llama_index.vector_stores.simple import SimpleVectorStore\n",
    "from llama_index.core.vector_stores import MetadataFilters\n",
    "from llama_index.core.vector_stores import FilterOperator, ExactMatchFilter\n",
    "from llama_index.embeddings.openai import OpenAIEmbedding\n",
    "import numpy as np\n",
    "\n",
    "# Load documents\n",
    "documents = SimpleDirectoryReader(\"documents\").load_data()\n",
    "print(f\"Loaded {len(documents)} documents\")\n",
    "\n",
    "# Create embedding model\n",
    "embed_model = OpenAIEmbedding(model=\"text-embedding-3-small\")\n",
    "\n",
    "# Create a vector store with cosine similarity as the distance function\n",
    "vector_store = SimpleVectorStore(similarity_top_k=2, vector_store_type=\"dict\", distance_fn=\"cosine\")\n",
    "\n",
    "# Create and populate the index\n",
    "index = VectorStoreIndex.from_documents(\n",
    "    documents,\n",
    "    embed_model=embed_model,\n",
    "    vector_store=vector_store,\n",
    "    show_progress=True\n",
    ")\n",
    "\n",
    "# Save the index\n",
    "index.storage_context.persist(\"index_cosine\")"
   ]
  },
  {
   "cell_type": "markdown",
   "id": "3d065332-471c-424a-8e90-6e6922923fad",
   "metadata": {},
   "source": [
    "Now let's add a function to perform RAG with cosine similarity:"
   ]
  },
  {
   "cell_type": "code",
   "execution_count": null,
   "id": "4bc4ddba-0508-4034-80c7-9bb1041c13b4",
   "metadata": {},
   "outputs": [],
   "source": [
    "from llama_index.core.query_engine import RetrieverQueryEngine\n",
    "from llama_index.core.retrievers import VectorIndexRetriever\n",
    "\n",
    "# Create a retriever with cosine similarity\n",
    "retriever = VectorIndexRetriever(\n",
    "    index=index,\n",
    "    similarity_top_k=2,\n",
    ")\n",
    "\n",
    "# Create a query engine\n",
    "query_engine = RetrieverQueryEngine(\n",
    "    retriever=retriever,\n",
    "    llm=OpenAI(model=\"gpt-4o-mini\")\n",
    ")\n",
    "\n",
    "# Now let's query about OpenCampus.sh with our RAG system\n",
    "response = query_engine.query(\"What is OpenCampus.sh and what does it do?\")\n",
    "print(response)"
   ]
  },
  {
   "cell_type": "markdown",
   "id": "34b48cb5-7809-4e06-8299-bb98f2910226",
   "metadata": {},
   "source": [
    "Let's also add a function to demonstrate how cosine similarity works under the hood:"
   ]
  },
  {
   "cell_type": "code",
   "execution_count": null,
   "id": "ffffc566-cf5c-40cc-a158-d8260ef0ad76",
   "metadata": {},
   "outputs": [],
   "source": [
    "def cosine_similarity_demo():\n",
    "    \"\"\"Demonstrate how cosine similarity works with embeddings\"\"\"\n",
    "    # Get embeddings for two related texts\n",
    "    text1 = \"OpenCampus.sh provides educational opportunities.\"\n",
    "    text2 = \"Education and learning are offered by OpenCampus.\"\n",
    "    text3 = \"Hamburg is a city in northern Germany.\"\n",
    "    \n",
    "    # Get embeddings\n",
    "    embedding1 = embed_model.get_text_embedding(text1)\n",
    "    embedding2 = embed_model.get_text_embedding(text2)\n",
    "    embedding3 = embed_model.get_text_embedding(text3)\n",
    "    \n",
    "    # Convert to numpy arrays for easier calculation\n",
    "    emb1 = np.array(embedding1)\n",
    "    emb2 = np.array(embedding2)\n",
    "    emb3 = np.array(embedding3)\n",
    "    \n",
    "    # Calculate cosine similarity\n",
    "    def cosine_sim(a, b):\n",
    "        return np.dot(a, b) / (np.linalg.norm(a) * np.linalg.norm(b))\n",
    "    \n",
    "    sim_1_2 = cosine_sim(emb1, emb2)\n",
    "    sim_1_3 = cosine_sim(emb1, emb3)\n",
    "    sim_2_3 = cosine_sim(emb2, emb3)\n",
    "    \n",
    "    print(f\"Similarity between related texts: {sim_1_2:.4f}\")\n",
    "    print(f\"Similarity between text1 and unrelated text: {sim_1_3:.4f}\")\n",
    "    print(f\"Similarity between text2 and unrelated text: {sim_2_3:.4f}\")\n",
    "    \n",
    "    return \"As shown, cosine similarity gives higher scores to semantically related texts\"\n",
    "\n",
    "# Run the demonstration\n",
    "cosine_similarity_demo()"
   ]
  },
  {
   "cell_type": "markdown",
   "id": "b6a2a8fd-ee52-46a6-a380-6384baf3849b",
   "metadata": {},
   "source": [
    "Finally, let's add a cell to compare RAG results with the previous direct LLM queries:"
   ]
  },
  {
   "cell_type": "code",
   "execution_count": null,
   "id": "c8e3f8c7-f820-4fed-bc5f-fbdabb6da07d",
   "metadata": {},
   "outputs": [],
   "source": [
    "# Compare RAG results with direct LLM query\n",
    "print(\"--- Direct LLM Query ---\")\n",
    "direct_response = OpenAI(model=\"gpt-4o-mini\").complete(\"What is OpenCampus.sh?\")\n",
    "print(direct_response)\n",
    "\n",
    "print(\"\\n--- RAG with Cosine Similarity ---\")\n",
    "rag_response = query_engine.query(\"What is OpenCampus.sh?\")\n",
    "print(rag_response)"
   ]
  }
 ],
 "metadata": {
  "kernelspec": {
   "display_name": "Python 3 (ipykernel)",
   "language": "python",
   "name": "python3"
  },
  "language_info": {
   "codemirror_mode": {
    "name": "ipython",
    "version": 3
   },
   "file_extension": ".py",
   "mimetype": "text/x-python",
   "name": "python",
   "nbconvert_exporter": "python",
   "pygments_lexer": "ipython3",
   "version": "3.11.5"
  }
 },
 "nbformat": 4,
 "nbformat_minor": 5
}
